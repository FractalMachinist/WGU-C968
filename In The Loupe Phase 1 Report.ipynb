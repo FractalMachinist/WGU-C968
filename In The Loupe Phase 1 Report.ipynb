{
  "nbformat": 4,
  "nbformat_minor": 0,
  "metadata": {
    "colab": {
      "name": "DiamondPricingEDA.ipynb",
      "provenance": [],
      "collapsed_sections": [
        "0eY9nQ5jGHKB"
      ],
      "mount_file_id": "1DhbwiGKjOsM1EQWX3UdmbG9cDQz75zDx",
      "authorship_tag": "ABX9TyMGviVfj9AYQhH7ShFn+Bob"
    },
    "kernelspec": {
      "name": "python3",
      "display_name": "Python 3"
    },
    "language_info": {
      "name": "python"
    },
    "widgets": {
      "application/vnd.jupyter.widget-state+json": {
        "aa28cd04682d4de3bcad985a7d3dd584": {
          "model_module": "@jupyter-widgets/controls",
          "model_name": "VBoxModel",
          "model_module_version": "2.0.0",
          "state": {
            "_dom_classes": [],
            "_model_module": "@jupyter-widgets/controls",
            "_model_module_version": "2.0.0",
            "_model_name": "VBoxModel",
            "_view_count": null,
            "_view_module": "@jupyter-widgets/controls",
            "_view_module_version": "2.0.0",
            "_view_name": "VBoxView",
            "box_style": "",
            "children": [
              "IPY_MODEL_bb36a8bce4aa4fcd803556701a7d0bb8",
              "IPY_MODEL_93296baa9a8f41df9931b4c695eac1a6",
              "IPY_MODEL_e71e2c83ef64473bb26dfd0d2c61547b",
              "IPY_MODEL_e123a77932084829976f18f721984410",
              "IPY_MODEL_8587d431e68644a9828260b8deca512e",
              "IPY_MODEL_98deb3dd10b24cb5a6d5d58024557ddf",
              "IPY_MODEL_f35cb8aa5ab64abfb2a68ee008f014d8",
              "IPY_MODEL_c660112105a2489c9a6f4b47b2b355c0",
              "IPY_MODEL_7623aa31de2a42eb97615f3d14d17dd2",
              "IPY_MODEL_24f1e39e175446418a75801e7912ab86"
            ],
            "layout": "IPY_MODEL_9a646b6acdb04b7bb7de2b74b2ed466c",
            "tabbable": null,
            "tooltip": null
          }
        },
        "bb36a8bce4aa4fcd803556701a7d0bb8": {
          "model_module": "@jupyter-widgets/controls",
          "model_name": "FloatSliderModel",
          "model_module_version": "2.0.0",
          "state": {
            "_dom_classes": [],
            "_model_module": "@jupyter-widgets/controls",
            "_model_module_version": "2.0.0",
            "_model_name": "FloatSliderModel",
            "_view_count": null,
            "_view_module": "@jupyter-widgets/controls",
            "_view_module_version": "2.0.0",
            "_view_name": "FloatSliderView",
            "behavior": "drag-tap",
            "continuous_update": false,
            "description": "carat",
            "description_allow_html": false,
            "disabled": false,
            "layout": "IPY_MODEL_59548ef925f6453fba85d27c19b604c8",
            "max": 10,
            "min": 0,
            "orientation": "horizontal",
            "readout": true,
            "readout_format": ".2f",
            "step": 0.1,
            "style": "IPY_MODEL_36d75c818d5149be99a733fd5d81a2ee",
            "tabbable": null,
            "tooltip": null,
            "value": 0
          }
        },
        "93296baa9a8f41df9931b4c695eac1a6": {
          "model_module": "@jupyter-widgets/controls",
          "model_name": "FloatSliderModel",
          "model_module_version": "2.0.0",
          "state": {
            "_dom_classes": [],
            "_model_module": "@jupyter-widgets/controls",
            "_model_module_version": "2.0.0",
            "_model_name": "FloatSliderModel",
            "_view_count": null,
            "_view_module": "@jupyter-widgets/controls",
            "_view_module_version": "2.0.0",
            "_view_name": "FloatSliderView",
            "behavior": "drag-tap",
            "continuous_update": false,
            "description": "y",
            "description_allow_html": false,
            "disabled": false,
            "layout": "IPY_MODEL_675796d3c61243b89c22f94743f738c1",
            "max": 15,
            "min": 0,
            "orientation": "horizontal",
            "readout": true,
            "readout_format": ".2f",
            "step": 0.1,
            "style": "IPY_MODEL_b803fdd4622946b893a1fab2998141e3",
            "tabbable": null,
            "tooltip": null,
            "value": 4.5
          }
        },
        "e71e2c83ef64473bb26dfd0d2c61547b": {
          "model_module": "@jupyter-widgets/controls",
          "model_name": "FloatSliderModel",
          "model_module_version": "2.0.0",
          "state": {
            "_dom_classes": [],
            "_model_module": "@jupyter-widgets/controls",
            "_model_module_version": "2.0.0",
            "_model_name": "FloatSliderModel",
            "_view_count": null,
            "_view_module": "@jupyter-widgets/controls",
            "_view_module_version": "2.0.0",
            "_view_name": "FloatSliderView",
            "behavior": "drag-tap",
            "continuous_update": false,
            "description": "x",
            "description_allow_html": false,
            "disabled": false,
            "layout": "IPY_MODEL_182bc732f25e4e218048d7a371ccdf84",
            "max": 15,
            "min": 0,
            "orientation": "horizontal",
            "readout": true,
            "readout_format": ".2f",
            "step": 0.1,
            "style": "IPY_MODEL_f3b2704056fb4ae78151581536c3a928",
            "tabbable": null,
            "tooltip": null,
            "value": 8.8
          }
        },
        "e123a77932084829976f18f721984410": {
          "model_module": "@jupyter-widgets/controls",
          "model_name": "FloatSliderModel",
          "model_module_version": "2.0.0",
          "state": {
            "_dom_classes": [],
            "_model_module": "@jupyter-widgets/controls",
            "_model_module_version": "2.0.0",
            "_model_name": "FloatSliderModel",
            "_view_count": null,
            "_view_module": "@jupyter-widgets/controls",
            "_view_module_version": "2.0.0",
            "_view_name": "FloatSliderView",
            "behavior": "drag-tap",
            "continuous_update": false,
            "description": "z",
            "description_allow_html": false,
            "disabled": false,
            "layout": "IPY_MODEL_804ce6a2204f4bf596247d4763acf434",
            "max": 10,
            "min": 0,
            "orientation": "horizontal",
            "readout": true,
            "readout_format": ".2f",
            "step": 0.1,
            "style": "IPY_MODEL_fd83c08aa66c4b6dbced4e65fbfb7e22",
            "tabbable": null,
            "tooltip": null,
            "value": 3.2
          }
        },
        "8587d431e68644a9828260b8deca512e": {
          "model_module": "@jupyter-widgets/controls",
          "model_name": "SelectionSliderModel",
          "model_module_version": "2.0.0",
          "state": {
            "_dom_classes": [],
            "_model_module": "@jupyter-widgets/controls",
            "_model_module_version": "2.0.0",
            "_model_name": "SelectionSliderModel",
            "_options_labels": [
              "D",
              "E",
              "F",
              "G",
              "H",
              "I",
              "J"
            ],
            "_view_count": null,
            "_view_module": "@jupyter-widgets/controls",
            "_view_module_version": "2.0.0",
            "_view_name": "SelectionSliderView",
            "behavior": "drag-tap",
            "continuous_update": false,
            "description": "color",
            "description_allow_html": false,
            "disabled": false,
            "index": 4,
            "layout": "IPY_MODEL_c1f5009eb28f4ad4a50c3357916597b6",
            "orientation": "horizontal",
            "readout": true,
            "style": "IPY_MODEL_529def7d8b6b4c8b9cdaa8619660f1dd",
            "tabbable": null,
            "tooltip": null
          }
        },
        "98deb3dd10b24cb5a6d5d58024557ddf": {
          "model_module": "@jupyter-widgets/controls",
          "model_name": "FloatSliderModel",
          "model_module_version": "2.0.0",
          "state": {
            "_dom_classes": [],
            "_model_module": "@jupyter-widgets/controls",
            "_model_module_version": "2.0.0",
            "_model_name": "FloatSliderModel",
            "_view_count": null,
            "_view_module": "@jupyter-widgets/controls",
            "_view_module_version": "2.0.0",
            "_view_name": "FloatSliderView",
            "behavior": "drag-tap",
            "continuous_update": false,
            "description": "table",
            "description_allow_html": false,
            "disabled": false,
            "layout": "IPY_MODEL_d6186f7dab1a441db773f30f82699ecf",
            "max": 80,
            "min": 0,
            "orientation": "horizontal",
            "readout": true,
            "readout_format": ".2f",
            "step": 0.1,
            "style": "IPY_MODEL_98c37a89bbbe42fbaf48f5cf1862a453",
            "tabbable": null,
            "tooltip": null,
            "value": 80
          }
        },
        "f35cb8aa5ab64abfb2a68ee008f014d8": {
          "model_module": "@jupyter-widgets/controls",
          "model_name": "SelectionSliderModel",
          "model_module_version": "2.0.0",
          "state": {
            "_dom_classes": [],
            "_model_module": "@jupyter-widgets/controls",
            "_model_module_version": "2.0.0",
            "_model_name": "SelectionSliderModel",
            "_options_labels": [
              "I1",
              "IF",
              "SI1",
              "SI2",
              "VS1",
              "VS2",
              "VVS1",
              "VVS2"
            ],
            "_view_count": null,
            "_view_module": "@jupyter-widgets/controls",
            "_view_module_version": "2.0.0",
            "_view_name": "SelectionSliderView",
            "behavior": "drag-tap",
            "continuous_update": false,
            "description": "clarity",
            "description_allow_html": false,
            "disabled": false,
            "index": 7,
            "layout": "IPY_MODEL_602a5f92ea1d406abfb9d3b772590294",
            "orientation": "horizontal",
            "readout": true,
            "style": "IPY_MODEL_f26f3d2d759b401a88507230e13c6171",
            "tabbable": null,
            "tooltip": null
          }
        },
        "c660112105a2489c9a6f4b47b2b355c0": {
          "model_module": "@jupyter-widgets/controls",
          "model_name": "SelectionSliderModel",
          "model_module_version": "2.0.0",
          "state": {
            "_dom_classes": [],
            "_model_module": "@jupyter-widgets/controls",
            "_model_module_version": "2.0.0",
            "_model_name": "SelectionSliderModel",
            "_options_labels": [
              "Fair",
              "Good",
              "Ideal",
              "Premium",
              "Very Good"
            ],
            "_view_count": null,
            "_view_module": "@jupyter-widgets/controls",
            "_view_module_version": "2.0.0",
            "_view_name": "SelectionSliderView",
            "behavior": "drag-tap",
            "continuous_update": false,
            "description": "cut",
            "description_allow_html": false,
            "disabled": false,
            "index": 4,
            "layout": "IPY_MODEL_4848045364b24a8db4f7a0ccbc00a9d5",
            "orientation": "horizontal",
            "readout": true,
            "style": "IPY_MODEL_b73b0e979c7b43ce902b48bbe7493db4",
            "tabbable": null,
            "tooltip": null
          }
        },
        "7623aa31de2a42eb97615f3d14d17dd2": {
          "model_module": "@jupyter-widgets/controls",
          "model_name": "FloatSliderModel",
          "model_module_version": "2.0.0",
          "state": {
            "_dom_classes": [],
            "_model_module": "@jupyter-widgets/controls",
            "_model_module_version": "2.0.0",
            "_model_name": "FloatSliderModel",
            "_view_count": null,
            "_view_module": "@jupyter-widgets/controls",
            "_view_module_version": "2.0.0",
            "_view_name": "FloatSliderView",
            "behavior": "drag-tap",
            "continuous_update": false,
            "description": "depth",
            "description_allow_html": false,
            "disabled": false,
            "layout": "IPY_MODEL_21d0604ce43d411da72a3d8f4c989307",
            "max": 75,
            "min": 0,
            "orientation": "horizontal",
            "readout": true,
            "readout_format": ".2f",
            "step": 0.1,
            "style": "IPY_MODEL_26a753eda88c496fa056fddb4e5c9e67",
            "tabbable": null,
            "tooltip": null,
            "value": 0
          }
        },
        "24f1e39e175446418a75801e7912ab86": {
          "model_module": "@jupyter-widgets/output",
          "model_name": "OutputModel",
          "model_module_version": "1.0.0",
          "state": {
            "_dom_classes": [],
            "_model_module": "@jupyter-widgets/output",
            "_model_module_version": "1.0.0",
            "_model_name": "OutputModel",
            "_view_count": null,
            "_view_module": "@jupyter-widgets/output",
            "_view_module_version": "1.0.0",
            "_view_name": "OutputView",
            "layout": "IPY_MODEL_26c12434e2154a35b2880ba763c97712",
            "msg_id": "",
            "outputs": [
              {
                "output_type": "stream",
                "name": "stdout",
                "text": [
                  "That should be about $30,739.53\n"
                ]
              }
            ],
            "tabbable": null,
            "tooltip": null
          }
        },
        "9a646b6acdb04b7bb7de2b74b2ed466c": {
          "model_module": "@jupyter-widgets/base",
          "model_name": "LayoutModel",
          "model_module_version": "2.0.0",
          "state": {
            "_model_module": "@jupyter-widgets/base",
            "_model_module_version": "2.0.0",
            "_model_name": "LayoutModel",
            "_view_count": null,
            "_view_module": "@jupyter-widgets/base",
            "_view_module_version": "2.0.0",
            "_view_name": "LayoutView",
            "align_content": null,
            "align_items": null,
            "align_self": null,
            "border_bottom": null,
            "border_left": null,
            "border_right": null,
            "border_top": null,
            "bottom": null,
            "display": null,
            "flex": null,
            "flex_flow": null,
            "grid_area": null,
            "grid_auto_columns": null,
            "grid_auto_flow": null,
            "grid_auto_rows": null,
            "grid_column": null,
            "grid_gap": null,
            "grid_row": null,
            "grid_template_areas": null,
            "grid_template_columns": null,
            "grid_template_rows": null,
            "height": null,
            "justify_content": null,
            "justify_items": null,
            "left": null,
            "margin": null,
            "max_height": null,
            "max_width": null,
            "min_height": null,
            "min_width": null,
            "object_fit": null,
            "object_position": null,
            "order": null,
            "overflow": null,
            "padding": null,
            "right": null,
            "top": null,
            "visibility": null,
            "width": null
          }
        },
        "59548ef925f6453fba85d27c19b604c8": {
          "model_module": "@jupyter-widgets/base",
          "model_name": "LayoutModel",
          "model_module_version": "2.0.0",
          "state": {
            "_model_module": "@jupyter-widgets/base",
            "_model_module_version": "2.0.0",
            "_model_name": "LayoutModel",
            "_view_count": null,
            "_view_module": "@jupyter-widgets/base",
            "_view_module_version": "2.0.0",
            "_view_name": "LayoutView",
            "align_content": null,
            "align_items": null,
            "align_self": null,
            "border_bottom": null,
            "border_left": null,
            "border_right": null,
            "border_top": null,
            "bottom": null,
            "display": null,
            "flex": null,
            "flex_flow": null,
            "grid_area": null,
            "grid_auto_columns": null,
            "grid_auto_flow": null,
            "grid_auto_rows": null,
            "grid_column": null,
            "grid_gap": null,
            "grid_row": null,
            "grid_template_areas": null,
            "grid_template_columns": null,
            "grid_template_rows": null,
            "height": null,
            "justify_content": null,
            "justify_items": null,
            "left": null,
            "margin": null,
            "max_height": null,
            "max_width": null,
            "min_height": null,
            "min_width": null,
            "object_fit": null,
            "object_position": null,
            "order": null,
            "overflow": null,
            "padding": null,
            "right": null,
            "top": null,
            "visibility": null,
            "width": null
          }
        },
        "36d75c818d5149be99a733fd5d81a2ee": {
          "model_module": "@jupyter-widgets/controls",
          "model_name": "SliderStyleModel",
          "model_module_version": "2.0.0",
          "state": {
            "_model_module": "@jupyter-widgets/controls",
            "_model_module_version": "2.0.0",
            "_model_name": "SliderStyleModel",
            "_view_count": null,
            "_view_module": "@jupyter-widgets/base",
            "_view_module_version": "2.0.0",
            "_view_name": "StyleView",
            "description_width": "",
            "handle_color": null
          }
        },
        "675796d3c61243b89c22f94743f738c1": {
          "model_module": "@jupyter-widgets/base",
          "model_name": "LayoutModel",
          "model_module_version": "2.0.0",
          "state": {
            "_model_module": "@jupyter-widgets/base",
            "_model_module_version": "2.0.0",
            "_model_name": "LayoutModel",
            "_view_count": null,
            "_view_module": "@jupyter-widgets/base",
            "_view_module_version": "2.0.0",
            "_view_name": "LayoutView",
            "align_content": null,
            "align_items": null,
            "align_self": null,
            "border_bottom": null,
            "border_left": null,
            "border_right": null,
            "border_top": null,
            "bottom": null,
            "display": null,
            "flex": null,
            "flex_flow": null,
            "grid_area": null,
            "grid_auto_columns": null,
            "grid_auto_flow": null,
            "grid_auto_rows": null,
            "grid_column": null,
            "grid_gap": null,
            "grid_row": null,
            "grid_template_areas": null,
            "grid_template_columns": null,
            "grid_template_rows": null,
            "height": null,
            "justify_content": null,
            "justify_items": null,
            "left": null,
            "margin": null,
            "max_height": null,
            "max_width": null,
            "min_height": null,
            "min_width": null,
            "object_fit": null,
            "object_position": null,
            "order": null,
            "overflow": null,
            "padding": null,
            "right": null,
            "top": null,
            "visibility": null,
            "width": null
          }
        },
        "b803fdd4622946b893a1fab2998141e3": {
          "model_module": "@jupyter-widgets/controls",
          "model_name": "SliderStyleModel",
          "model_module_version": "2.0.0",
          "state": {
            "_model_module": "@jupyter-widgets/controls",
            "_model_module_version": "2.0.0",
            "_model_name": "SliderStyleModel",
            "_view_count": null,
            "_view_module": "@jupyter-widgets/base",
            "_view_module_version": "2.0.0",
            "_view_name": "StyleView",
            "description_width": "",
            "handle_color": null
          }
        },
        "182bc732f25e4e218048d7a371ccdf84": {
          "model_module": "@jupyter-widgets/base",
          "model_name": "LayoutModel",
          "model_module_version": "2.0.0",
          "state": {
            "_model_module": "@jupyter-widgets/base",
            "_model_module_version": "2.0.0",
            "_model_name": "LayoutModel",
            "_view_count": null,
            "_view_module": "@jupyter-widgets/base",
            "_view_module_version": "2.0.0",
            "_view_name": "LayoutView",
            "align_content": null,
            "align_items": null,
            "align_self": null,
            "border_bottom": null,
            "border_left": null,
            "border_right": null,
            "border_top": null,
            "bottom": null,
            "display": null,
            "flex": null,
            "flex_flow": null,
            "grid_area": null,
            "grid_auto_columns": null,
            "grid_auto_flow": null,
            "grid_auto_rows": null,
            "grid_column": null,
            "grid_gap": null,
            "grid_row": null,
            "grid_template_areas": null,
            "grid_template_columns": null,
            "grid_template_rows": null,
            "height": null,
            "justify_content": null,
            "justify_items": null,
            "left": null,
            "margin": null,
            "max_height": null,
            "max_width": null,
            "min_height": null,
            "min_width": null,
            "object_fit": null,
            "object_position": null,
            "order": null,
            "overflow": null,
            "padding": null,
            "right": null,
            "top": null,
            "visibility": null,
            "width": null
          }
        },
        "f3b2704056fb4ae78151581536c3a928": {
          "model_module": "@jupyter-widgets/controls",
          "model_name": "SliderStyleModel",
          "model_module_version": "2.0.0",
          "state": {
            "_model_module": "@jupyter-widgets/controls",
            "_model_module_version": "2.0.0",
            "_model_name": "SliderStyleModel",
            "_view_count": null,
            "_view_module": "@jupyter-widgets/base",
            "_view_module_version": "2.0.0",
            "_view_name": "StyleView",
            "description_width": "",
            "handle_color": null
          }
        },
        "804ce6a2204f4bf596247d4763acf434": {
          "model_module": "@jupyter-widgets/base",
          "model_name": "LayoutModel",
          "model_module_version": "2.0.0",
          "state": {
            "_model_module": "@jupyter-widgets/base",
            "_model_module_version": "2.0.0",
            "_model_name": "LayoutModel",
            "_view_count": null,
            "_view_module": "@jupyter-widgets/base",
            "_view_module_version": "2.0.0",
            "_view_name": "LayoutView",
            "align_content": null,
            "align_items": null,
            "align_self": null,
            "border_bottom": null,
            "border_left": null,
            "border_right": null,
            "border_top": null,
            "bottom": null,
            "display": null,
            "flex": null,
            "flex_flow": null,
            "grid_area": null,
            "grid_auto_columns": null,
            "grid_auto_flow": null,
            "grid_auto_rows": null,
            "grid_column": null,
            "grid_gap": null,
            "grid_row": null,
            "grid_template_areas": null,
            "grid_template_columns": null,
            "grid_template_rows": null,
            "height": null,
            "justify_content": null,
            "justify_items": null,
            "left": null,
            "margin": null,
            "max_height": null,
            "max_width": null,
            "min_height": null,
            "min_width": null,
            "object_fit": null,
            "object_position": null,
            "order": null,
            "overflow": null,
            "padding": null,
            "right": null,
            "top": null,
            "visibility": null,
            "width": null
          }
        },
        "fd83c08aa66c4b6dbced4e65fbfb7e22": {
          "model_module": "@jupyter-widgets/controls",
          "model_name": "SliderStyleModel",
          "model_module_version": "2.0.0",
          "state": {
            "_model_module": "@jupyter-widgets/controls",
            "_model_module_version": "2.0.0",
            "_model_name": "SliderStyleModel",
            "_view_count": null,
            "_view_module": "@jupyter-widgets/base",
            "_view_module_version": "2.0.0",
            "_view_name": "StyleView",
            "description_width": "",
            "handle_color": null
          }
        },
        "c1f5009eb28f4ad4a50c3357916597b6": {
          "model_module": "@jupyter-widgets/base",
          "model_name": "LayoutModel",
          "model_module_version": "2.0.0",
          "state": {
            "_model_module": "@jupyter-widgets/base",
            "_model_module_version": "2.0.0",
            "_model_name": "LayoutModel",
            "_view_count": null,
            "_view_module": "@jupyter-widgets/base",
            "_view_module_version": "2.0.0",
            "_view_name": "LayoutView",
            "align_content": null,
            "align_items": null,
            "align_self": null,
            "border_bottom": null,
            "border_left": null,
            "border_right": null,
            "border_top": null,
            "bottom": null,
            "display": null,
            "flex": null,
            "flex_flow": null,
            "grid_area": null,
            "grid_auto_columns": null,
            "grid_auto_flow": null,
            "grid_auto_rows": null,
            "grid_column": null,
            "grid_gap": null,
            "grid_row": null,
            "grid_template_areas": null,
            "grid_template_columns": null,
            "grid_template_rows": null,
            "height": null,
            "justify_content": null,
            "justify_items": null,
            "left": null,
            "margin": null,
            "max_height": null,
            "max_width": null,
            "min_height": null,
            "min_width": null,
            "object_fit": null,
            "object_position": null,
            "order": null,
            "overflow": null,
            "padding": null,
            "right": null,
            "top": null,
            "visibility": null,
            "width": null
          }
        },
        "529def7d8b6b4c8b9cdaa8619660f1dd": {
          "model_module": "@jupyter-widgets/controls",
          "model_name": "SliderStyleModel",
          "model_module_version": "2.0.0",
          "state": {
            "_model_module": "@jupyter-widgets/controls",
            "_model_module_version": "2.0.0",
            "_model_name": "SliderStyleModel",
            "_view_count": null,
            "_view_module": "@jupyter-widgets/base",
            "_view_module_version": "2.0.0",
            "_view_name": "StyleView",
            "description_width": "",
            "handle_color": null
          }
        },
        "d6186f7dab1a441db773f30f82699ecf": {
          "model_module": "@jupyter-widgets/base",
          "model_name": "LayoutModel",
          "model_module_version": "2.0.0",
          "state": {
            "_model_module": "@jupyter-widgets/base",
            "_model_module_version": "2.0.0",
            "_model_name": "LayoutModel",
            "_view_count": null,
            "_view_module": "@jupyter-widgets/base",
            "_view_module_version": "2.0.0",
            "_view_name": "LayoutView",
            "align_content": null,
            "align_items": null,
            "align_self": null,
            "border_bottom": null,
            "border_left": null,
            "border_right": null,
            "border_top": null,
            "bottom": null,
            "display": null,
            "flex": null,
            "flex_flow": null,
            "grid_area": null,
            "grid_auto_columns": null,
            "grid_auto_flow": null,
            "grid_auto_rows": null,
            "grid_column": null,
            "grid_gap": null,
            "grid_row": null,
            "grid_template_areas": null,
            "grid_template_columns": null,
            "grid_template_rows": null,
            "height": null,
            "justify_content": null,
            "justify_items": null,
            "left": null,
            "margin": null,
            "max_height": null,
            "max_width": null,
            "min_height": null,
            "min_width": null,
            "object_fit": null,
            "object_position": null,
            "order": null,
            "overflow": null,
            "padding": null,
            "right": null,
            "top": null,
            "visibility": null,
            "width": null
          }
        },
        "98c37a89bbbe42fbaf48f5cf1862a453": {
          "model_module": "@jupyter-widgets/controls",
          "model_name": "SliderStyleModel",
          "model_module_version": "2.0.0",
          "state": {
            "_model_module": "@jupyter-widgets/controls",
            "_model_module_version": "2.0.0",
            "_model_name": "SliderStyleModel",
            "_view_count": null,
            "_view_module": "@jupyter-widgets/base",
            "_view_module_version": "2.0.0",
            "_view_name": "StyleView",
            "description_width": "",
            "handle_color": null
          }
        },
        "602a5f92ea1d406abfb9d3b772590294": {
          "model_module": "@jupyter-widgets/base",
          "model_name": "LayoutModel",
          "model_module_version": "2.0.0",
          "state": {
            "_model_module": "@jupyter-widgets/base",
            "_model_module_version": "2.0.0",
            "_model_name": "LayoutModel",
            "_view_count": null,
            "_view_module": "@jupyter-widgets/base",
            "_view_module_version": "2.0.0",
            "_view_name": "LayoutView",
            "align_content": null,
            "align_items": null,
            "align_self": null,
            "border_bottom": null,
            "border_left": null,
            "border_right": null,
            "border_top": null,
            "bottom": null,
            "display": null,
            "flex": null,
            "flex_flow": null,
            "grid_area": null,
            "grid_auto_columns": null,
            "grid_auto_flow": null,
            "grid_auto_rows": null,
            "grid_column": null,
            "grid_gap": null,
            "grid_row": null,
            "grid_template_areas": null,
            "grid_template_columns": null,
            "grid_template_rows": null,
            "height": null,
            "justify_content": null,
            "justify_items": null,
            "left": null,
            "margin": null,
            "max_height": null,
            "max_width": null,
            "min_height": null,
            "min_width": null,
            "object_fit": null,
            "object_position": null,
            "order": null,
            "overflow": null,
            "padding": null,
            "right": null,
            "top": null,
            "visibility": null,
            "width": null
          }
        },
        "f26f3d2d759b401a88507230e13c6171": {
          "model_module": "@jupyter-widgets/controls",
          "model_name": "SliderStyleModel",
          "model_module_version": "2.0.0",
          "state": {
            "_model_module": "@jupyter-widgets/controls",
            "_model_module_version": "2.0.0",
            "_model_name": "SliderStyleModel",
            "_view_count": null,
            "_view_module": "@jupyter-widgets/base",
            "_view_module_version": "2.0.0",
            "_view_name": "StyleView",
            "description_width": "",
            "handle_color": null
          }
        },
        "4848045364b24a8db4f7a0ccbc00a9d5": {
          "model_module": "@jupyter-widgets/base",
          "model_name": "LayoutModel",
          "model_module_version": "2.0.0",
          "state": {
            "_model_module": "@jupyter-widgets/base",
            "_model_module_version": "2.0.0",
            "_model_name": "LayoutModel",
            "_view_count": null,
            "_view_module": "@jupyter-widgets/base",
            "_view_module_version": "2.0.0",
            "_view_name": "LayoutView",
            "align_content": null,
            "align_items": null,
            "align_self": null,
            "border_bottom": null,
            "border_left": null,
            "border_right": null,
            "border_top": null,
            "bottom": null,
            "display": null,
            "flex": null,
            "flex_flow": null,
            "grid_area": null,
            "grid_auto_columns": null,
            "grid_auto_flow": null,
            "grid_auto_rows": null,
            "grid_column": null,
            "grid_gap": null,
            "grid_row": null,
            "grid_template_areas": null,
            "grid_template_columns": null,
            "grid_template_rows": null,
            "height": null,
            "justify_content": null,
            "justify_items": null,
            "left": null,
            "margin": null,
            "max_height": null,
            "max_width": null,
            "min_height": null,
            "min_width": null,
            "object_fit": null,
            "object_position": null,
            "order": null,
            "overflow": null,
            "padding": null,
            "right": null,
            "top": null,
            "visibility": null,
            "width": null
          }
        },
        "b73b0e979c7b43ce902b48bbe7493db4": {
          "model_module": "@jupyter-widgets/controls",
          "model_name": "SliderStyleModel",
          "model_module_version": "2.0.0",
          "state": {
            "_model_module": "@jupyter-widgets/controls",
            "_model_module_version": "2.0.0",
            "_model_name": "SliderStyleModel",
            "_view_count": null,
            "_view_module": "@jupyter-widgets/base",
            "_view_module_version": "2.0.0",
            "_view_name": "StyleView",
            "description_width": "",
            "handle_color": null
          }
        },
        "21d0604ce43d411da72a3d8f4c989307": {
          "model_module": "@jupyter-widgets/base",
          "model_name": "LayoutModel",
          "model_module_version": "2.0.0",
          "state": {
            "_model_module": "@jupyter-widgets/base",
            "_model_module_version": "2.0.0",
            "_model_name": "LayoutModel",
            "_view_count": null,
            "_view_module": "@jupyter-widgets/base",
            "_view_module_version": "2.0.0",
            "_view_name": "LayoutView",
            "align_content": null,
            "align_items": null,
            "align_self": null,
            "border_bottom": null,
            "border_left": null,
            "border_right": null,
            "border_top": null,
            "bottom": null,
            "display": null,
            "flex": null,
            "flex_flow": null,
            "grid_area": null,
            "grid_auto_columns": null,
            "grid_auto_flow": null,
            "grid_auto_rows": null,
            "grid_column": null,
            "grid_gap": null,
            "grid_row": null,
            "grid_template_areas": null,
            "grid_template_columns": null,
            "grid_template_rows": null,
            "height": null,
            "justify_content": null,
            "justify_items": null,
            "left": null,
            "margin": null,
            "max_height": null,
            "max_width": null,
            "min_height": null,
            "min_width": null,
            "object_fit": null,
            "object_position": null,
            "order": null,
            "overflow": null,
            "padding": null,
            "right": null,
            "top": null,
            "visibility": null,
            "width": null
          }
        },
        "26a753eda88c496fa056fddb4e5c9e67": {
          "model_module": "@jupyter-widgets/controls",
          "model_name": "SliderStyleModel",
          "model_module_version": "2.0.0",
          "state": {
            "_model_module": "@jupyter-widgets/controls",
            "_model_module_version": "2.0.0",
            "_model_name": "SliderStyleModel",
            "_view_count": null,
            "_view_module": "@jupyter-widgets/base",
            "_view_module_version": "2.0.0",
            "_view_name": "StyleView",
            "description_width": "",
            "handle_color": null
          }
        },
        "26c12434e2154a35b2880ba763c97712": {
          "model_module": "@jupyter-widgets/base",
          "model_name": "LayoutModel",
          "model_module_version": "2.0.0",
          "state": {
            "_model_module": "@jupyter-widgets/base",
            "_model_module_version": "2.0.0",
            "_model_name": "LayoutModel",
            "_view_count": null,
            "_view_module": "@jupyter-widgets/base",
            "_view_module_version": "2.0.0",
            "_view_name": "LayoutView",
            "align_content": null,
            "align_items": null,
            "align_self": null,
            "border_bottom": null,
            "border_left": null,
            "border_right": null,
            "border_top": null,
            "bottom": null,
            "display": null,
            "flex": null,
            "flex_flow": null,
            "grid_area": null,
            "grid_auto_columns": null,
            "grid_auto_flow": null,
            "grid_auto_rows": null,
            "grid_column": null,
            "grid_gap": null,
            "grid_row": null,
            "grid_template_areas": null,
            "grid_template_columns": null,
            "grid_template_rows": null,
            "height": null,
            "justify_content": null,
            "justify_items": null,
            "left": null,
            "margin": null,
            "max_height": null,
            "max_width": null,
            "min_height": null,
            "min_width": null,
            "object_fit": null,
            "object_position": null,
            "order": null,
            "overflow": null,
            "padding": null,
            "right": null,
            "top": null,
            "visibility": null,
            "width": null
          }
        }
      }
    }
  },
  "cells": [
    {
      "cell_type": "markdown",
      "source": [
        "$\\pagebreak$"
      ],
      "metadata": {
        "id": "5kzN6sywFCvl"
      }
    },
    {
      "cell_type": "markdown",
      "source": [
        "### Configuring logging"
      ],
      "metadata": {
        "id": "4QOfU5L2Fbzx"
      }
    },
    {
      "cell_type": "code",
      "source": [
        "# Suggested via https://stackoverflow.com/a/47796399\n",
        "# Tee logging into a file\n",
        "import sys, logging\n",
        "my_stderr = sys.stderr = open(\"error.txt\", \"a+\") # redirect stderr to file\n",
        "get_ipython().log.handlers[0].stream = my_stderr # Log errors to new stderr (errors are annotated for color)\n",
        "get_ipython().log.setLevel(logging.INFO)         # Configure logging of errors   "
      ],
      "metadata": {
        "id": "49JobhWBB6vt"
      },
      "execution_count": 1,
      "outputs": []
    },
    {
      "cell_type": "code",
      "source": [
        "enable_visualizations = True"
      ],
      "metadata": {
        "id": "u1_2_LR67-zj"
      },
      "execution_count": 2,
      "outputs": []
    },
    {
      "cell_type": "markdown",
      "source": [
        "$\\pagebreak$"
      ],
      "metadata": {
        "id": "7TVbFHW5RGRC"
      }
    },
    {
      "cell_type": "markdown",
      "source": [
        "# Summary  \n",
        "## Project Purpose  \n",
        "This phase of the project focused on determining if a model can be produced which predicts diamond prices based on features, meeting accuracy and performance KPIs set by FBay's customers and stakeholders.\n",
        "\n",
        "## Dataset  \n",
        "([Data](#Data-to-Information))  \n",
        "The model was trained on ~54,000 diamonds sold through FBay’s gemstone marketplace. This data was collected into a CSV file and hosted at [kaggle.com](https://www.kaggle.com/datasets/nancyalaswad90/diamonds-prices). _Evaluator: This data did not originate from FBay, the fictional company. This data originated from the linked kaggle.com dataset._\n",
        "\n",
        "## Model Design  \n",
        "([Model](#Fit-a-model-to-predict-price))  \n",
        "The model selected was a Decision Tree, based on its ease of training and efficiency on commodity hardware. The model was trained on an 80% split of the data, and its accuracy was validated on the remaining 20%. \n",
        "\n",
        "## Evaluation  \n",
        "([Evaluation](#Model-Evaluation))  \n",
        "The model’s accuracy on validation data was 96.4%, exceeding the project’s KPI of 95%. The model was also evaluated for its throughput and latency, exceeding KPIs.\n",
        "\n",
        "## Model Demonstration  \n",
        "([Demonstration](#Interactive-price-prediction))  \n",
        "This notebook features an interactive querying tool. See [User's Guide](#Users-Guide) for how to execute this notebook interactively."
      ],
      "metadata": {
        "id": "6sxG0x-xGPlT"
      }
    },
    {
      "cell_type": "markdown",
      "source": [
        "# Data to Information"
      ],
      "metadata": {
        "id": "4z17zURKVeZV"
      }
    },
    {
      "cell_type": "markdown",
      "source": [
        "## Dataset Selection"
      ],
      "metadata": {
        "id": "N0bRZzq-ybMG"
      }
    },
    {
      "cell_type": "markdown",
      "source": [
        "The model was trained from data in a CSV file hosted at [kaggle.com](https://www.kaggle.com/datasets/nancyalaswad90/diamonds-prices). These data include cut, color, clarity, carat, depth, table (the size of the largest top facet), length in x, y, and z, and sale price for ~54,000 diamonds."
      ],
      "metadata": {
        "id": "BKTd76wMGds_"
      }
    },
    {
      "cell_type": "code",
      "execution_count": 3,
      "metadata": {
        "id": "9JSeMxcMT6Tj"
      },
      "outputs": [],
      "source": [
        "CSV_PATH=\"/content/drive/MyDrive/Classes/Early 2022/Capstone/colab/DiamondPrices/DiamondsPrices2022.csv\""
      ]
    },
    {
      "cell_type": "code",
      "source": [
        "import pandas as pd, seaborn as sns, numpy as np, matplotlib.pyplot as plt, matplotlib.gridspec as gridspec\n",
        "from scipy import stats"
      ],
      "metadata": {
        "id": "j8xlHIvCUIC6"
      },
      "execution_count": 4,
      "outputs": []
    },
    {
      "cell_type": "code",
      "source": [
        "diamonds_dirty = pd.read_csv(CSV_PATH, index_col=0)\n",
        "diamonds_dirty.head()"
      ],
      "metadata": {
        "id": "Dhod3hDLUU26",
        "colab": {
          "base_uri": "https://localhost:8080/",
          "height": 206
        },
        "outputId": "5cf4a316-f5b5-455b-f147-a49ee02f3338"
      },
      "execution_count": 5,
      "outputs": [
        {
          "output_type": "execute_result",
          "data": {
            "text/plain": [
              "   carat      cut color clarity  depth  table  price     x     y     z\n",
              "1   0.23    Ideal     E     SI2   61.5   55.0    326  3.95  3.98  2.43\n",
              "2   0.21  Premium     E     SI1   59.8   61.0    326  3.89  3.84  2.31\n",
              "3   0.23     Good     E     VS1   56.9   65.0    327  4.05  4.07  2.31\n",
              "4   0.29  Premium     I     VS2   62.4   58.0    334  4.20  4.23  2.63\n",
              "5   0.31     Good     J     SI2   63.3   58.0    335  4.34  4.35  2.75"
            ],
            "text/html": [
              "\n",
              "  <div id=\"df-0f27338c-c275-4e93-b7ef-5c2db78bb425\">\n",
              "    <div class=\"colab-df-container\">\n",
              "      <div>\n",
              "<style scoped>\n",
              "    .dataframe tbody tr th:only-of-type {\n",
              "        vertical-align: middle;\n",
              "    }\n",
              "\n",
              "    .dataframe tbody tr th {\n",
              "        vertical-align: top;\n",
              "    }\n",
              "\n",
              "    .dataframe thead th {\n",
              "        text-align: right;\n",
              "    }\n",
              "</style>\n",
              "<table border=\"1\" class=\"dataframe\">\n",
              "  <thead>\n",
              "    <tr style=\"text-align: right;\">\n",
              "      <th></th>\n",
              "      <th>carat</th>\n",
              "      <th>cut</th>\n",
              "      <th>color</th>\n",
              "      <th>clarity</th>\n",
              "      <th>depth</th>\n",
              "      <th>table</th>\n",
              "      <th>price</th>\n",
              "      <th>x</th>\n",
              "      <th>y</th>\n",
              "      <th>z</th>\n",
              "    </tr>\n",
              "  </thead>\n",
              "  <tbody>\n",
              "    <tr>\n",
              "      <th>1</th>\n",
              "      <td>0.23</td>\n",
              "      <td>Ideal</td>\n",
              "      <td>E</td>\n",
              "      <td>SI2</td>\n",
              "      <td>61.5</td>\n",
              "      <td>55.0</td>\n",
              "      <td>326</td>\n",
              "      <td>3.95</td>\n",
              "      <td>3.98</td>\n",
              "      <td>2.43</td>\n",
              "    </tr>\n",
              "    <tr>\n",
              "      <th>2</th>\n",
              "      <td>0.21</td>\n",
              "      <td>Premium</td>\n",
              "      <td>E</td>\n",
              "      <td>SI1</td>\n",
              "      <td>59.8</td>\n",
              "      <td>61.0</td>\n",
              "      <td>326</td>\n",
              "      <td>3.89</td>\n",
              "      <td>3.84</td>\n",
              "      <td>2.31</td>\n",
              "    </tr>\n",
              "    <tr>\n",
              "      <th>3</th>\n",
              "      <td>0.23</td>\n",
              "      <td>Good</td>\n",
              "      <td>E</td>\n",
              "      <td>VS1</td>\n",
              "      <td>56.9</td>\n",
              "      <td>65.0</td>\n",
              "      <td>327</td>\n",
              "      <td>4.05</td>\n",
              "      <td>4.07</td>\n",
              "      <td>2.31</td>\n",
              "    </tr>\n",
              "    <tr>\n",
              "      <th>4</th>\n",
              "      <td>0.29</td>\n",
              "      <td>Premium</td>\n",
              "      <td>I</td>\n",
              "      <td>VS2</td>\n",
              "      <td>62.4</td>\n",
              "      <td>58.0</td>\n",
              "      <td>334</td>\n",
              "      <td>4.20</td>\n",
              "      <td>4.23</td>\n",
              "      <td>2.63</td>\n",
              "    </tr>\n",
              "    <tr>\n",
              "      <th>5</th>\n",
              "      <td>0.31</td>\n",
              "      <td>Good</td>\n",
              "      <td>J</td>\n",
              "      <td>SI2</td>\n",
              "      <td>63.3</td>\n",
              "      <td>58.0</td>\n",
              "      <td>335</td>\n",
              "      <td>4.34</td>\n",
              "      <td>4.35</td>\n",
              "      <td>2.75</td>\n",
              "    </tr>\n",
              "  </tbody>\n",
              "</table>\n",
              "</div>\n",
              "      <button class=\"colab-df-convert\" onclick=\"convertToInteractive('df-0f27338c-c275-4e93-b7ef-5c2db78bb425')\"\n",
              "              title=\"Convert this dataframe to an interactive table.\"\n",
              "              style=\"display:none;\">\n",
              "        \n",
              "  <svg xmlns=\"http://www.w3.org/2000/svg\" height=\"24px\"viewBox=\"0 0 24 24\"\n",
              "       width=\"24px\">\n",
              "    <path d=\"M0 0h24v24H0V0z\" fill=\"none\"/>\n",
              "    <path d=\"M18.56 5.44l.94 2.06.94-2.06 2.06-.94-2.06-.94-.94-2.06-.94 2.06-2.06.94zm-11 1L8.5 8.5l.94-2.06 2.06-.94-2.06-.94L8.5 2.5l-.94 2.06-2.06.94zm10 10l.94 2.06.94-2.06 2.06-.94-2.06-.94-.94-2.06-.94 2.06-2.06.94z\"/><path d=\"M17.41 7.96l-1.37-1.37c-.4-.4-.92-.59-1.43-.59-.52 0-1.04.2-1.43.59L10.3 9.45l-7.72 7.72c-.78.78-.78 2.05 0 2.83L4 21.41c.39.39.9.59 1.41.59.51 0 1.02-.2 1.41-.59l7.78-7.78 2.81-2.81c.8-.78.8-2.07 0-2.86zM5.41 20L4 18.59l7.72-7.72 1.47 1.35L5.41 20z\"/>\n",
              "  </svg>\n",
              "      </button>\n",
              "      \n",
              "  <style>\n",
              "    .colab-df-container {\n",
              "      display:flex;\n",
              "      flex-wrap:wrap;\n",
              "      gap: 12px;\n",
              "    }\n",
              "\n",
              "    .colab-df-convert {\n",
              "      background-color: #E8F0FE;\n",
              "      border: none;\n",
              "      border-radius: 50%;\n",
              "      cursor: pointer;\n",
              "      display: none;\n",
              "      fill: #1967D2;\n",
              "      height: 32px;\n",
              "      padding: 0 0 0 0;\n",
              "      width: 32px;\n",
              "    }\n",
              "\n",
              "    .colab-df-convert:hover {\n",
              "      background-color: #E2EBFA;\n",
              "      box-shadow: 0px 1px 2px rgba(60, 64, 67, 0.3), 0px 1px 3px 1px rgba(60, 64, 67, 0.15);\n",
              "      fill: #174EA6;\n",
              "    }\n",
              "\n",
              "    [theme=dark] .colab-df-convert {\n",
              "      background-color: #3B4455;\n",
              "      fill: #D2E3FC;\n",
              "    }\n",
              "\n",
              "    [theme=dark] .colab-df-convert:hover {\n",
              "      background-color: #434B5C;\n",
              "      box-shadow: 0px 1px 3px 1px rgba(0, 0, 0, 0.15);\n",
              "      filter: drop-shadow(0px 1px 2px rgba(0, 0, 0, 0.3));\n",
              "      fill: #FFFFFF;\n",
              "    }\n",
              "  </style>\n",
              "\n",
              "      <script>\n",
              "        const buttonEl =\n",
              "          document.querySelector('#df-0f27338c-c275-4e93-b7ef-5c2db78bb425 button.colab-df-convert');\n",
              "        buttonEl.style.display =\n",
              "          google.colab.kernel.accessAllowed ? 'block' : 'none';\n",
              "\n",
              "        async function convertToInteractive(key) {\n",
              "          const element = document.querySelector('#df-0f27338c-c275-4e93-b7ef-5c2db78bb425');\n",
              "          const dataTable =\n",
              "            await google.colab.kernel.invokeFunction('convertToInteractive',\n",
              "                                                     [key], {});\n",
              "          if (!dataTable) return;\n",
              "\n",
              "          const docLinkHtml = 'Like what you see? Visit the ' +\n",
              "            '<a target=\"_blank\" href=https://colab.research.google.com/notebooks/data_table.ipynb>data table notebook</a>'\n",
              "            + ' to learn more about interactive tables.';\n",
              "          element.innerHTML = '';\n",
              "          dataTable['output_type'] = 'display_data';\n",
              "          await google.colab.output.renderOutput(dataTable, element);\n",
              "          const docLink = document.createElement('div');\n",
              "          docLink.innerHTML = docLinkHtml;\n",
              "          element.appendChild(docLink);\n",
              "        }\n",
              "      </script>\n",
              "    </div>\n",
              "  </div>\n",
              "  "
            ]
          },
          "metadata": {},
          "execution_count": 5
        }
      ]
    },
    {
      "cell_type": "markdown",
      "source": [
        "## Data Pipeline"
      ],
      "metadata": {
        "id": "tYtTEQBKrNUV"
      }
    },
    {
      "cell_type": "markdown",
      "source": [
        "### Cleaning Steps"
      ],
      "metadata": {
        "id": "xmUGbrcZ68fW"
      }
    },
    {
      "cell_type": "markdown",
      "source": [
        "The data were largely clean from the source, but some diamonds (20 of them) were listed as having sizes of zero mm. This was considered unreasonable, and those diamonds were removed from the dataset."
      ],
      "metadata": {
        "id": "W7_tglWSGg-d"
      }
    },
    {
      "cell_type": "code",
      "source": [
        "# Null values\n",
        "diamonds_dirty[diamonds_dirty.isnull().any(axis=1)]"
      ],
      "metadata": {
        "colab": {
          "base_uri": "https://localhost:8080/",
          "height": 49
        },
        "id": "A503Qr3x7Ai-",
        "outputId": "a25c8877-02eb-4305-9ae0-e65015f67f06"
      },
      "execution_count": 6,
      "outputs": [
        {
          "output_type": "execute_result",
          "data": {
            "text/plain": [
              "Empty DataFrame\n",
              "Columns: [carat, cut, color, clarity, depth, table, price, x, y, z]\n",
              "Index: []"
            ],
            "text/html": [
              "\n",
              "  <div id=\"df-4b53d23f-a508-49cd-ab64-6fb62dc0998c\">\n",
              "    <div class=\"colab-df-container\">\n",
              "      <div>\n",
              "<style scoped>\n",
              "    .dataframe tbody tr th:only-of-type {\n",
              "        vertical-align: middle;\n",
              "    }\n",
              "\n",
              "    .dataframe tbody tr th {\n",
              "        vertical-align: top;\n",
              "    }\n",
              "\n",
              "    .dataframe thead th {\n",
              "        text-align: right;\n",
              "    }\n",
              "</style>\n",
              "<table border=\"1\" class=\"dataframe\">\n",
              "  <thead>\n",
              "    <tr style=\"text-align: right;\">\n",
              "      <th></th>\n",
              "      <th>carat</th>\n",
              "      <th>cut</th>\n",
              "      <th>color</th>\n",
              "      <th>clarity</th>\n",
              "      <th>depth</th>\n",
              "      <th>table</th>\n",
              "      <th>price</th>\n",
              "      <th>x</th>\n",
              "      <th>y</th>\n",
              "      <th>z</th>\n",
              "    </tr>\n",
              "  </thead>\n",
              "  <tbody>\n",
              "  </tbody>\n",
              "</table>\n",
              "</div>\n",
              "      <button class=\"colab-df-convert\" onclick=\"convertToInteractive('df-4b53d23f-a508-49cd-ab64-6fb62dc0998c')\"\n",
              "              title=\"Convert this dataframe to an interactive table.\"\n",
              "              style=\"display:none;\">\n",
              "        \n",
              "  <svg xmlns=\"http://www.w3.org/2000/svg\" height=\"24px\"viewBox=\"0 0 24 24\"\n",
              "       width=\"24px\">\n",
              "    <path d=\"M0 0h24v24H0V0z\" fill=\"none\"/>\n",
              "    <path d=\"M18.56 5.44l.94 2.06.94-2.06 2.06-.94-2.06-.94-.94-2.06-.94 2.06-2.06.94zm-11 1L8.5 8.5l.94-2.06 2.06-.94-2.06-.94L8.5 2.5l-.94 2.06-2.06.94zm10 10l.94 2.06.94-2.06 2.06-.94-2.06-.94-.94-2.06-.94 2.06-2.06.94z\"/><path d=\"M17.41 7.96l-1.37-1.37c-.4-.4-.92-.59-1.43-.59-.52 0-1.04.2-1.43.59L10.3 9.45l-7.72 7.72c-.78.78-.78 2.05 0 2.83L4 21.41c.39.39.9.59 1.41.59.51 0 1.02-.2 1.41-.59l7.78-7.78 2.81-2.81c.8-.78.8-2.07 0-2.86zM5.41 20L4 18.59l7.72-7.72 1.47 1.35L5.41 20z\"/>\n",
              "  </svg>\n",
              "      </button>\n",
              "      \n",
              "  <style>\n",
              "    .colab-df-container {\n",
              "      display:flex;\n",
              "      flex-wrap:wrap;\n",
              "      gap: 12px;\n",
              "    }\n",
              "\n",
              "    .colab-df-convert {\n",
              "      background-color: #E8F0FE;\n",
              "      border: none;\n",
              "      border-radius: 50%;\n",
              "      cursor: pointer;\n",
              "      display: none;\n",
              "      fill: #1967D2;\n",
              "      height: 32px;\n",
              "      padding: 0 0 0 0;\n",
              "      width: 32px;\n",
              "    }\n",
              "\n",
              "    .colab-df-convert:hover {\n",
              "      background-color: #E2EBFA;\n",
              "      box-shadow: 0px 1px 2px rgba(60, 64, 67, 0.3), 0px 1px 3px 1px rgba(60, 64, 67, 0.15);\n",
              "      fill: #174EA6;\n",
              "    }\n",
              "\n",
              "    [theme=dark] .colab-df-convert {\n",
              "      background-color: #3B4455;\n",
              "      fill: #D2E3FC;\n",
              "    }\n",
              "\n",
              "    [theme=dark] .colab-df-convert:hover {\n",
              "      background-color: #434B5C;\n",
              "      box-shadow: 0px 1px 3px 1px rgba(0, 0, 0, 0.15);\n",
              "      filter: drop-shadow(0px 1px 2px rgba(0, 0, 0, 0.3));\n",
              "      fill: #FFFFFF;\n",
              "    }\n",
              "  </style>\n",
              "\n",
              "      <script>\n",
              "        const buttonEl =\n",
              "          document.querySelector('#df-4b53d23f-a508-49cd-ab64-6fb62dc0998c button.colab-df-convert');\n",
              "        buttonEl.style.display =\n",
              "          google.colab.kernel.accessAllowed ? 'block' : 'none';\n",
              "\n",
              "        async function convertToInteractive(key) {\n",
              "          const element = document.querySelector('#df-4b53d23f-a508-49cd-ab64-6fb62dc0998c');\n",
              "          const dataTable =\n",
              "            await google.colab.kernel.invokeFunction('convertToInteractive',\n",
              "                                                     [key], {});\n",
              "          if (!dataTable) return;\n",
              "\n",
              "          const docLinkHtml = 'Like what you see? Visit the ' +\n",
              "            '<a target=\"_blank\" href=https://colab.research.google.com/notebooks/data_table.ipynb>data table notebook</a>'\n",
              "            + ' to learn more about interactive tables.';\n",
              "          element.innerHTML = '';\n",
              "          dataTable['output_type'] = 'display_data';\n",
              "          await google.colab.output.renderOutput(dataTable, element);\n",
              "          const docLink = document.createElement('div');\n",
              "          docLink.innerHTML = docLinkHtml;\n",
              "          element.appendChild(docLink);\n",
              "        }\n",
              "      </script>\n",
              "    </div>\n",
              "  </div>\n",
              "  "
            ]
          },
          "metadata": {},
          "execution_count": 6
        }
      ]
    },
    {
      "cell_type": "code",
      "source": [
        "# Zeros\n",
        "diamonds_dirty[diamonds_dirty.select_dtypes(include=['number']).eq(0).any(axis=1)]"
      ],
      "metadata": {
        "colab": {
          "base_uri": "https://localhost:8080/",
          "height": 677
        },
        "id": "jJMLEzlY7UMF",
        "outputId": "f2cca66d-3b01-4141-a884-af18e6b1858f"
      },
      "execution_count": 7,
      "outputs": [
        {
          "output_type": "execute_result",
          "data": {
            "text/plain": [
              "       carat        cut color clarity  depth  table  price     x     y    z\n",
              "2208    1.00    Premium     G     SI2   59.1   59.0   3142  6.55  6.48  0.0\n",
              "2315    1.01    Premium     H      I1   58.1   59.0   3167  6.66  6.60  0.0\n",
              "4792    1.10    Premium     G     SI2   63.0   59.0   3696  6.50  6.47  0.0\n",
              "5472    1.01    Premium     F     SI2   59.2   58.0   3837  6.50  6.47  0.0\n",
              "10168   1.50       Good     G      I1   64.0   61.0   4731  7.15  7.04  0.0\n",
              "11183   1.07      Ideal     F     SI2   61.6   56.0   4954  0.00  6.62  0.0\n",
              "11964   1.00  Very Good     H     VS2   63.3   53.0   5139  0.00  0.00  0.0\n",
              "13602   1.15      Ideal     G     VS2   59.2   56.0   5564  6.88  6.83  0.0\n",
              "15952   1.14       Fair     G     VS1   57.5   67.0   6381  0.00  0.00  0.0\n",
              "24395   2.18    Premium     H     SI2   59.4   61.0  12631  8.49  8.45  0.0\n",
              "24521   1.56      Ideal     G     VS2   62.2   54.0  12800  0.00  0.00  0.0\n",
              "26124   2.25    Premium     I     SI1   61.3   58.0  15397  8.52  8.42  0.0\n",
              "26244   1.20    Premium     D    VVS1   62.1   59.0  15686  0.00  0.00  0.0\n",
              "27113   2.20    Premium     H     SI1   61.2   59.0  17265  8.42  8.37  0.0\n",
              "27430   2.25    Premium     H     SI2   62.8   59.0  18034  0.00  0.00  0.0\n",
              "27504   2.02    Premium     H     VS2   62.7   53.0  18207  8.02  7.95  0.0\n",
              "27740   2.80       Good     G     SI2   63.8   58.0  18788  8.90  8.85  0.0\n",
              "49557   0.71       Good     F     SI2   64.1   60.0   2130  0.00  0.00  0.0\n",
              "49558   0.71       Good     F     SI2   64.1   60.0   2130  0.00  0.00  0.0\n",
              "51507   1.12    Premium     G      I1   60.4   59.0   2383  6.71  6.67  0.0"
            ],
            "text/html": [
              "\n",
              "  <div id=\"df-ba638877-0872-469d-9266-26f8bc143004\">\n",
              "    <div class=\"colab-df-container\">\n",
              "      <div>\n",
              "<style scoped>\n",
              "    .dataframe tbody tr th:only-of-type {\n",
              "        vertical-align: middle;\n",
              "    }\n",
              "\n",
              "    .dataframe tbody tr th {\n",
              "        vertical-align: top;\n",
              "    }\n",
              "\n",
              "    .dataframe thead th {\n",
              "        text-align: right;\n",
              "    }\n",
              "</style>\n",
              "<table border=\"1\" class=\"dataframe\">\n",
              "  <thead>\n",
              "    <tr style=\"text-align: right;\">\n",
              "      <th></th>\n",
              "      <th>carat</th>\n",
              "      <th>cut</th>\n",
              "      <th>color</th>\n",
              "      <th>clarity</th>\n",
              "      <th>depth</th>\n",
              "      <th>table</th>\n",
              "      <th>price</th>\n",
              "      <th>x</th>\n",
              "      <th>y</th>\n",
              "      <th>z</th>\n",
              "    </tr>\n",
              "  </thead>\n",
              "  <tbody>\n",
              "    <tr>\n",
              "      <th>2208</th>\n",
              "      <td>1.00</td>\n",
              "      <td>Premium</td>\n",
              "      <td>G</td>\n",
              "      <td>SI2</td>\n",
              "      <td>59.1</td>\n",
              "      <td>59.0</td>\n",
              "      <td>3142</td>\n",
              "      <td>6.55</td>\n",
              "      <td>6.48</td>\n",
              "      <td>0.0</td>\n",
              "    </tr>\n",
              "    <tr>\n",
              "      <th>2315</th>\n",
              "      <td>1.01</td>\n",
              "      <td>Premium</td>\n",
              "      <td>H</td>\n",
              "      <td>I1</td>\n",
              "      <td>58.1</td>\n",
              "      <td>59.0</td>\n",
              "      <td>3167</td>\n",
              "      <td>6.66</td>\n",
              "      <td>6.60</td>\n",
              "      <td>0.0</td>\n",
              "    </tr>\n",
              "    <tr>\n",
              "      <th>4792</th>\n",
              "      <td>1.10</td>\n",
              "      <td>Premium</td>\n",
              "      <td>G</td>\n",
              "      <td>SI2</td>\n",
              "      <td>63.0</td>\n",
              "      <td>59.0</td>\n",
              "      <td>3696</td>\n",
              "      <td>6.50</td>\n",
              "      <td>6.47</td>\n",
              "      <td>0.0</td>\n",
              "    </tr>\n",
              "    <tr>\n",
              "      <th>5472</th>\n",
              "      <td>1.01</td>\n",
              "      <td>Premium</td>\n",
              "      <td>F</td>\n",
              "      <td>SI2</td>\n",
              "      <td>59.2</td>\n",
              "      <td>58.0</td>\n",
              "      <td>3837</td>\n",
              "      <td>6.50</td>\n",
              "      <td>6.47</td>\n",
              "      <td>0.0</td>\n",
              "    </tr>\n",
              "    <tr>\n",
              "      <th>10168</th>\n",
              "      <td>1.50</td>\n",
              "      <td>Good</td>\n",
              "      <td>G</td>\n",
              "      <td>I1</td>\n",
              "      <td>64.0</td>\n",
              "      <td>61.0</td>\n",
              "      <td>4731</td>\n",
              "      <td>7.15</td>\n",
              "      <td>7.04</td>\n",
              "      <td>0.0</td>\n",
              "    </tr>\n",
              "    <tr>\n",
              "      <th>11183</th>\n",
              "      <td>1.07</td>\n",
              "      <td>Ideal</td>\n",
              "      <td>F</td>\n",
              "      <td>SI2</td>\n",
              "      <td>61.6</td>\n",
              "      <td>56.0</td>\n",
              "      <td>4954</td>\n",
              "      <td>0.00</td>\n",
              "      <td>6.62</td>\n",
              "      <td>0.0</td>\n",
              "    </tr>\n",
              "    <tr>\n",
              "      <th>11964</th>\n",
              "      <td>1.00</td>\n",
              "      <td>Very Good</td>\n",
              "      <td>H</td>\n",
              "      <td>VS2</td>\n",
              "      <td>63.3</td>\n",
              "      <td>53.0</td>\n",
              "      <td>5139</td>\n",
              "      <td>0.00</td>\n",
              "      <td>0.00</td>\n",
              "      <td>0.0</td>\n",
              "    </tr>\n",
              "    <tr>\n",
              "      <th>13602</th>\n",
              "      <td>1.15</td>\n",
              "      <td>Ideal</td>\n",
              "      <td>G</td>\n",
              "      <td>VS2</td>\n",
              "      <td>59.2</td>\n",
              "      <td>56.0</td>\n",
              "      <td>5564</td>\n",
              "      <td>6.88</td>\n",
              "      <td>6.83</td>\n",
              "      <td>0.0</td>\n",
              "    </tr>\n",
              "    <tr>\n",
              "      <th>15952</th>\n",
              "      <td>1.14</td>\n",
              "      <td>Fair</td>\n",
              "      <td>G</td>\n",
              "      <td>VS1</td>\n",
              "      <td>57.5</td>\n",
              "      <td>67.0</td>\n",
              "      <td>6381</td>\n",
              "      <td>0.00</td>\n",
              "      <td>0.00</td>\n",
              "      <td>0.0</td>\n",
              "    </tr>\n",
              "    <tr>\n",
              "      <th>24395</th>\n",
              "      <td>2.18</td>\n",
              "      <td>Premium</td>\n",
              "      <td>H</td>\n",
              "      <td>SI2</td>\n",
              "      <td>59.4</td>\n",
              "      <td>61.0</td>\n",
              "      <td>12631</td>\n",
              "      <td>8.49</td>\n",
              "      <td>8.45</td>\n",
              "      <td>0.0</td>\n",
              "    </tr>\n",
              "    <tr>\n",
              "      <th>24521</th>\n",
              "      <td>1.56</td>\n",
              "      <td>Ideal</td>\n",
              "      <td>G</td>\n",
              "      <td>VS2</td>\n",
              "      <td>62.2</td>\n",
              "      <td>54.0</td>\n",
              "      <td>12800</td>\n",
              "      <td>0.00</td>\n",
              "      <td>0.00</td>\n",
              "      <td>0.0</td>\n",
              "    </tr>\n",
              "    <tr>\n",
              "      <th>26124</th>\n",
              "      <td>2.25</td>\n",
              "      <td>Premium</td>\n",
              "      <td>I</td>\n",
              "      <td>SI1</td>\n",
              "      <td>61.3</td>\n",
              "      <td>58.0</td>\n",
              "      <td>15397</td>\n",
              "      <td>8.52</td>\n",
              "      <td>8.42</td>\n",
              "      <td>0.0</td>\n",
              "    </tr>\n",
              "    <tr>\n",
              "      <th>26244</th>\n",
              "      <td>1.20</td>\n",
              "      <td>Premium</td>\n",
              "      <td>D</td>\n",
              "      <td>VVS1</td>\n",
              "      <td>62.1</td>\n",
              "      <td>59.0</td>\n",
              "      <td>15686</td>\n",
              "      <td>0.00</td>\n",
              "      <td>0.00</td>\n",
              "      <td>0.0</td>\n",
              "    </tr>\n",
              "    <tr>\n",
              "      <th>27113</th>\n",
              "      <td>2.20</td>\n",
              "      <td>Premium</td>\n",
              "      <td>H</td>\n",
              "      <td>SI1</td>\n",
              "      <td>61.2</td>\n",
              "      <td>59.0</td>\n",
              "      <td>17265</td>\n",
              "      <td>8.42</td>\n",
              "      <td>8.37</td>\n",
              "      <td>0.0</td>\n",
              "    </tr>\n",
              "    <tr>\n",
              "      <th>27430</th>\n",
              "      <td>2.25</td>\n",
              "      <td>Premium</td>\n",
              "      <td>H</td>\n",
              "      <td>SI2</td>\n",
              "      <td>62.8</td>\n",
              "      <td>59.0</td>\n",
              "      <td>18034</td>\n",
              "      <td>0.00</td>\n",
              "      <td>0.00</td>\n",
              "      <td>0.0</td>\n",
              "    </tr>\n",
              "    <tr>\n",
              "      <th>27504</th>\n",
              "      <td>2.02</td>\n",
              "      <td>Premium</td>\n",
              "      <td>H</td>\n",
              "      <td>VS2</td>\n",
              "      <td>62.7</td>\n",
              "      <td>53.0</td>\n",
              "      <td>18207</td>\n",
              "      <td>8.02</td>\n",
              "      <td>7.95</td>\n",
              "      <td>0.0</td>\n",
              "    </tr>\n",
              "    <tr>\n",
              "      <th>27740</th>\n",
              "      <td>2.80</td>\n",
              "      <td>Good</td>\n",
              "      <td>G</td>\n",
              "      <td>SI2</td>\n",
              "      <td>63.8</td>\n",
              "      <td>58.0</td>\n",
              "      <td>18788</td>\n",
              "      <td>8.90</td>\n",
              "      <td>8.85</td>\n",
              "      <td>0.0</td>\n",
              "    </tr>\n",
              "    <tr>\n",
              "      <th>49557</th>\n",
              "      <td>0.71</td>\n",
              "      <td>Good</td>\n",
              "      <td>F</td>\n",
              "      <td>SI2</td>\n",
              "      <td>64.1</td>\n",
              "      <td>60.0</td>\n",
              "      <td>2130</td>\n",
              "      <td>0.00</td>\n",
              "      <td>0.00</td>\n",
              "      <td>0.0</td>\n",
              "    </tr>\n",
              "    <tr>\n",
              "      <th>49558</th>\n",
              "      <td>0.71</td>\n",
              "      <td>Good</td>\n",
              "      <td>F</td>\n",
              "      <td>SI2</td>\n",
              "      <td>64.1</td>\n",
              "      <td>60.0</td>\n",
              "      <td>2130</td>\n",
              "      <td>0.00</td>\n",
              "      <td>0.00</td>\n",
              "      <td>0.0</td>\n",
              "    </tr>\n",
              "    <tr>\n",
              "      <th>51507</th>\n",
              "      <td>1.12</td>\n",
              "      <td>Premium</td>\n",
              "      <td>G</td>\n",
              "      <td>I1</td>\n",
              "      <td>60.4</td>\n",
              "      <td>59.0</td>\n",
              "      <td>2383</td>\n",
              "      <td>6.71</td>\n",
              "      <td>6.67</td>\n",
              "      <td>0.0</td>\n",
              "    </tr>\n",
              "  </tbody>\n",
              "</table>\n",
              "</div>\n",
              "      <button class=\"colab-df-convert\" onclick=\"convertToInteractive('df-ba638877-0872-469d-9266-26f8bc143004')\"\n",
              "              title=\"Convert this dataframe to an interactive table.\"\n",
              "              style=\"display:none;\">\n",
              "        \n",
              "  <svg xmlns=\"http://www.w3.org/2000/svg\" height=\"24px\"viewBox=\"0 0 24 24\"\n",
              "       width=\"24px\">\n",
              "    <path d=\"M0 0h24v24H0V0z\" fill=\"none\"/>\n",
              "    <path d=\"M18.56 5.44l.94 2.06.94-2.06 2.06-.94-2.06-.94-.94-2.06-.94 2.06-2.06.94zm-11 1L8.5 8.5l.94-2.06 2.06-.94-2.06-.94L8.5 2.5l-.94 2.06-2.06.94zm10 10l.94 2.06.94-2.06 2.06-.94-2.06-.94-.94-2.06-.94 2.06-2.06.94z\"/><path d=\"M17.41 7.96l-1.37-1.37c-.4-.4-.92-.59-1.43-.59-.52 0-1.04.2-1.43.59L10.3 9.45l-7.72 7.72c-.78.78-.78 2.05 0 2.83L4 21.41c.39.39.9.59 1.41.59.51 0 1.02-.2 1.41-.59l7.78-7.78 2.81-2.81c.8-.78.8-2.07 0-2.86zM5.41 20L4 18.59l7.72-7.72 1.47 1.35L5.41 20z\"/>\n",
              "  </svg>\n",
              "      </button>\n",
              "      \n",
              "  <style>\n",
              "    .colab-df-container {\n",
              "      display:flex;\n",
              "      flex-wrap:wrap;\n",
              "      gap: 12px;\n",
              "    }\n",
              "\n",
              "    .colab-df-convert {\n",
              "      background-color: #E8F0FE;\n",
              "      border: none;\n",
              "      border-radius: 50%;\n",
              "      cursor: pointer;\n",
              "      display: none;\n",
              "      fill: #1967D2;\n",
              "      height: 32px;\n",
              "      padding: 0 0 0 0;\n",
              "      width: 32px;\n",
              "    }\n",
              "\n",
              "    .colab-df-convert:hover {\n",
              "      background-color: #E2EBFA;\n",
              "      box-shadow: 0px 1px 2px rgba(60, 64, 67, 0.3), 0px 1px 3px 1px rgba(60, 64, 67, 0.15);\n",
              "      fill: #174EA6;\n",
              "    }\n",
              "\n",
              "    [theme=dark] .colab-df-convert {\n",
              "      background-color: #3B4455;\n",
              "      fill: #D2E3FC;\n",
              "    }\n",
              "\n",
              "    [theme=dark] .colab-df-convert:hover {\n",
              "      background-color: #434B5C;\n",
              "      box-shadow: 0px 1px 3px 1px rgba(0, 0, 0, 0.15);\n",
              "      filter: drop-shadow(0px 1px 2px rgba(0, 0, 0, 0.3));\n",
              "      fill: #FFFFFF;\n",
              "    }\n",
              "  </style>\n",
              "\n",
              "      <script>\n",
              "        const buttonEl =\n",
              "          document.querySelector('#df-ba638877-0872-469d-9266-26f8bc143004 button.colab-df-convert');\n",
              "        buttonEl.style.display =\n",
              "          google.colab.kernel.accessAllowed ? 'block' : 'none';\n",
              "\n",
              "        async function convertToInteractive(key) {\n",
              "          const element = document.querySelector('#df-ba638877-0872-469d-9266-26f8bc143004');\n",
              "          const dataTable =\n",
              "            await google.colab.kernel.invokeFunction('convertToInteractive',\n",
              "                                                     [key], {});\n",
              "          if (!dataTable) return;\n",
              "\n",
              "          const docLinkHtml = 'Like what you see? Visit the ' +\n",
              "            '<a target=\"_blank\" href=https://colab.research.google.com/notebooks/data_table.ipynb>data table notebook</a>'\n",
              "            + ' to learn more about interactive tables.';\n",
              "          element.innerHTML = '';\n",
              "          dataTable['output_type'] = 'display_data';\n",
              "          await google.colab.output.renderOutput(dataTable, element);\n",
              "          const docLink = document.createElement('div');\n",
              "          docLink.innerHTML = docLinkHtml;\n",
              "          element.appendChild(docLink);\n",
              "        }\n",
              "      </script>\n",
              "    </div>\n",
              "  </div>\n",
              "  "
            ]
          },
          "metadata": {},
          "execution_count": 7
        }
      ]
    },
    {
      "cell_type": "code",
      "source": [
        "# Empty Strings\n",
        "diamonds_dirty[diamonds_dirty.eq(\"\").any(axis=1)]"
      ],
      "metadata": {
        "colab": {
          "base_uri": "https://localhost:8080/",
          "height": 49
        },
        "id": "pCA1kXiV7g60",
        "outputId": "558bb6cc-3f28-49fc-9836-e5741566d089"
      },
      "execution_count": 8,
      "outputs": [
        {
          "output_type": "execute_result",
          "data": {
            "text/plain": [
              "Empty DataFrame\n",
              "Columns: [carat, cut, color, clarity, depth, table, price, x, y, z]\n",
              "Index: []"
            ],
            "text/html": [
              "\n",
              "  <div id=\"df-0f916d20-e04c-4f69-83b4-04d1029f7b23\">\n",
              "    <div class=\"colab-df-container\">\n",
              "      <div>\n",
              "<style scoped>\n",
              "    .dataframe tbody tr th:only-of-type {\n",
              "        vertical-align: middle;\n",
              "    }\n",
              "\n",
              "    .dataframe tbody tr th {\n",
              "        vertical-align: top;\n",
              "    }\n",
              "\n",
              "    .dataframe thead th {\n",
              "        text-align: right;\n",
              "    }\n",
              "</style>\n",
              "<table border=\"1\" class=\"dataframe\">\n",
              "  <thead>\n",
              "    <tr style=\"text-align: right;\">\n",
              "      <th></th>\n",
              "      <th>carat</th>\n",
              "      <th>cut</th>\n",
              "      <th>color</th>\n",
              "      <th>clarity</th>\n",
              "      <th>depth</th>\n",
              "      <th>table</th>\n",
              "      <th>price</th>\n",
              "      <th>x</th>\n",
              "      <th>y</th>\n",
              "      <th>z</th>\n",
              "    </tr>\n",
              "  </thead>\n",
              "  <tbody>\n",
              "  </tbody>\n",
              "</table>\n",
              "</div>\n",
              "      <button class=\"colab-df-convert\" onclick=\"convertToInteractive('df-0f916d20-e04c-4f69-83b4-04d1029f7b23')\"\n",
              "              title=\"Convert this dataframe to an interactive table.\"\n",
              "              style=\"display:none;\">\n",
              "        \n",
              "  <svg xmlns=\"http://www.w3.org/2000/svg\" height=\"24px\"viewBox=\"0 0 24 24\"\n",
              "       width=\"24px\">\n",
              "    <path d=\"M0 0h24v24H0V0z\" fill=\"none\"/>\n",
              "    <path d=\"M18.56 5.44l.94 2.06.94-2.06 2.06-.94-2.06-.94-.94-2.06-.94 2.06-2.06.94zm-11 1L8.5 8.5l.94-2.06 2.06-.94-2.06-.94L8.5 2.5l-.94 2.06-2.06.94zm10 10l.94 2.06.94-2.06 2.06-.94-2.06-.94-.94-2.06-.94 2.06-2.06.94z\"/><path d=\"M17.41 7.96l-1.37-1.37c-.4-.4-.92-.59-1.43-.59-.52 0-1.04.2-1.43.59L10.3 9.45l-7.72 7.72c-.78.78-.78 2.05 0 2.83L4 21.41c.39.39.9.59 1.41.59.51 0 1.02-.2 1.41-.59l7.78-7.78 2.81-2.81c.8-.78.8-2.07 0-2.86zM5.41 20L4 18.59l7.72-7.72 1.47 1.35L5.41 20z\"/>\n",
              "  </svg>\n",
              "      </button>\n",
              "      \n",
              "  <style>\n",
              "    .colab-df-container {\n",
              "      display:flex;\n",
              "      flex-wrap:wrap;\n",
              "      gap: 12px;\n",
              "    }\n",
              "\n",
              "    .colab-df-convert {\n",
              "      background-color: #E8F0FE;\n",
              "      border: none;\n",
              "      border-radius: 50%;\n",
              "      cursor: pointer;\n",
              "      display: none;\n",
              "      fill: #1967D2;\n",
              "      height: 32px;\n",
              "      padding: 0 0 0 0;\n",
              "      width: 32px;\n",
              "    }\n",
              "\n",
              "    .colab-df-convert:hover {\n",
              "      background-color: #E2EBFA;\n",
              "      box-shadow: 0px 1px 2px rgba(60, 64, 67, 0.3), 0px 1px 3px 1px rgba(60, 64, 67, 0.15);\n",
              "      fill: #174EA6;\n",
              "    }\n",
              "\n",
              "    [theme=dark] .colab-df-convert {\n",
              "      background-color: #3B4455;\n",
              "      fill: #D2E3FC;\n",
              "    }\n",
              "\n",
              "    [theme=dark] .colab-df-convert:hover {\n",
              "      background-color: #434B5C;\n",
              "      box-shadow: 0px 1px 3px 1px rgba(0, 0, 0, 0.15);\n",
              "      filter: drop-shadow(0px 1px 2px rgba(0, 0, 0, 0.3));\n",
              "      fill: #FFFFFF;\n",
              "    }\n",
              "  </style>\n",
              "\n",
              "      <script>\n",
              "        const buttonEl =\n",
              "          document.querySelector('#df-0f916d20-e04c-4f69-83b4-04d1029f7b23 button.colab-df-convert');\n",
              "        buttonEl.style.display =\n",
              "          google.colab.kernel.accessAllowed ? 'block' : 'none';\n",
              "\n",
              "        async function convertToInteractive(key) {\n",
              "          const element = document.querySelector('#df-0f916d20-e04c-4f69-83b4-04d1029f7b23');\n",
              "          const dataTable =\n",
              "            await google.colab.kernel.invokeFunction('convertToInteractive',\n",
              "                                                     [key], {});\n",
              "          if (!dataTable) return;\n",
              "\n",
              "          const docLinkHtml = 'Like what you see? Visit the ' +\n",
              "            '<a target=\"_blank\" href=https://colab.research.google.com/notebooks/data_table.ipynb>data table notebook</a>'\n",
              "            + ' to learn more about interactive tables.';\n",
              "          element.innerHTML = '';\n",
              "          dataTable['output_type'] = 'display_data';\n",
              "          await google.colab.output.renderOutput(dataTable, element);\n",
              "          const docLink = document.createElement('div');\n",
              "          docLink.innerHTML = docLinkHtml;\n",
              "          element.appendChild(docLink);\n",
              "        }\n",
              "      </script>\n",
              "    </div>\n",
              "  </div>\n",
              "  "
            ]
          },
          "metadata": {},
          "execution_count": 8
        }
      ]
    },
    {
      "cell_type": "code",
      "source": [
        "diamonds_dirty = diamonds_dirty[~diamonds_dirty.select_dtypes(include=['number']).eq(0).any(axis=1)]\n",
        "diamonds_dirty = diamonds_dirty[(np.abs(stats.zscore(diamonds_dirty.select_dtypes(include=['number']))) < 10).all(axis=1)]\n",
        "\n",
        "diamonds_clean = diamonds_dirty"
      ],
      "metadata": {
        "id": "l-luKkr77njV"
      },
      "execution_count": 9,
      "outputs": []
    },
    {
      "cell_type": "markdown",
      "source": [
        "### Qualitative Data\n",
        "This dataset required very minimal feature engineering, limited to assigning numeric values to the ordinal categories described below."
      ],
      "metadata": {
        "id": "m2crdIronIXu"
      }
    },
    {
      "cell_type": "markdown",
      "source": [
        "#### What data are qualitative?"
      ],
      "metadata": {
        "id": "7UetENfHVwOO"
      }
    },
    {
      "cell_type": "code",
      "source": [
        "_ = diamonds_clean.select_dtypes(include='object').apply(lambda col: print(f\"{col.name}\\t: {col.unique()}\"))"
      ],
      "metadata": {
        "colab": {
          "base_uri": "https://localhost:8080/"
        },
        "id": "VoJsfNvuVGUD",
        "outputId": "db67d907-f8be-439c-8cb9-cba266520db4"
      },
      "execution_count": 10,
      "outputs": [
        {
          "output_type": "stream",
          "name": "stdout",
          "text": [
            "cut\t: ['Ideal' 'Premium' 'Good' 'Very Good' 'Fair']\n",
            "color\t: ['E' 'I' 'J' 'H' 'F' 'G' 'D']\n",
            "clarity\t: ['SI2' 'SI1' 'VS1' 'VS2' 'VVS2' 'VVS1' 'I1' 'IF']\n"
          ]
        }
      ]
    },
    {
      "cell_type": "markdown",
      "source": [
        "#### Exogenous definitions of Cut, Color, and Clarity\n",
        "\n",
        "Cut diverges from the [GIA Diamond Cut Scale](https://4cs.gia.edu/en-us/diamond-cut/) in terminology. It is a 5-step ordinal scale.\n",
        "\n",
        "Color follows the [GIA Diamond Color Scale](https://4cs.gia.edu/en-us/diamond-color/), which is ordinal from Z to D (better scores are earlier letters), the last 7 (J-D) of which are present.\n",
        "\n",
        "Clarity follows the [GIA Diamond Clarity Scale](https://4cs.gia.edu/en-us/diamond-clarity/), which is ordinal across 11 values, 8 of which are present."
      ],
      "metadata": {
        "id": "pcFa0AyoWiZZ"
      }
    },
    {
      "cell_type": "markdown",
      "source": [
        "#### Embedding ordinality information"
      ],
      "metadata": {
        "id": "u4bmT9OzfuZg"
      }
    },
    {
      "cell_type": "code",
      "source": [
        "ordinal_scales = {\n",
        "    \"cut\":      ['Fair', 'Good', 'Very Good', 'Premium', 'Ideal'],\n",
        "    \"color\":    ['D', 'E', 'F', 'G', 'H', 'I', 'J'][::-1], # Reversed because better scores are earlier letters\n",
        "    \"clarity\":  [\"I1\", \"SI1\", \"SI2\", \"VS1\", \"VS2\", \"VVS1\", \"VVS2\", \"IF\"]\n",
        "}"
      ],
      "metadata": {
        "id": "Z1OO8YdOWIMF"
      },
      "execution_count": 11,
      "outputs": []
    },
    {
      "cell_type": "code",
      "source": [
        "for column_name, scale in ordinal_scales.items():\n",
        "    col = diamonds_clean[column_name].astype(\"category\").cat.set_categories(scale, ordered=True)\n",
        "    diamonds_clean[column_name] = col\n",
        "    diamonds_clean[column_name + \"_num\"] = col.cat.codes\n",
        "\n",
        "diamonds_information = diamonds_clean.copy()\n",
        "\n",
        "diamonds_information.info()"
      ],
      "metadata": {
        "colab": {
          "base_uri": "https://localhost:8080/"
        },
        "id": "VGxdtFkwf56E",
        "outputId": "ca86820b-3100-4a4f-fc62-3606ef9fa92c"
      },
      "execution_count": 12,
      "outputs": [
        {
          "output_type": "stream",
          "name": "stdout",
          "text": [
            "<class 'pandas.core.frame.DataFrame'>\n",
            "Int64Index: 53913 entries, 1 to 53943\n",
            "Data columns (total 13 columns):\n",
            " #   Column       Non-Null Count  Dtype   \n",
            "---  ------       --------------  -----   \n",
            " 0   carat        53913 non-null  float64 \n",
            " 1   cut          53913 non-null  category\n",
            " 2   color        53913 non-null  category\n",
            " 3   clarity      53913 non-null  category\n",
            " 4   depth        53913 non-null  float64 \n",
            " 5   table        53913 non-null  float64 \n",
            " 6   price        53913 non-null  int64   \n",
            " 7   x            53913 non-null  float64 \n",
            " 8   y            53913 non-null  float64 \n",
            " 9   z            53913 non-null  float64 \n",
            " 10  cut_num      53913 non-null  int8    \n",
            " 11  color_num    53913 non-null  int8    \n",
            " 12  clarity_num  53913 non-null  int8    \n",
            "dtypes: category(3), float64(6), int64(1), int8(3)\n",
            "memory usage: 3.6 MB\n"
          ]
        }
      ]
    },
    {
      "cell_type": "markdown",
      "source": [
        "## Univariate Analysis"
      ],
      "metadata": {
        "id": "n2-a1VG0lBhi"
      }
    },
    {
      "cell_type": "code",
      "source": [
        "# Visualizing each feature\n",
        "if enable_visualizations:\n",
        "    univariate_analysis_figure, UA_axes = plt.subplots(len(diamonds_information.columns), figsize=(10, 10))\n",
        "    univariate_analysis_figure.suptitle(\"Wide histograms of each feature\")\n",
        "    univariate_analysis_figure.tight_layout()\n",
        "    xyz_axes = []\n",
        "    first_xyz_axis = None\n",
        "    for axis, column_key in zip(UA_axes, diamonds_information.columns):\n",
        "        data = diamonds_information[column_key]\n",
        "        if data.dtype == 'category':\n",
        "            sns.countplot(data=diamonds_information, x=column_key, ax=axis, order=sorted(data.unique()))\n",
        "        else:\n",
        "            sns.histplot(data=diamonds_information, x=column_key, ax=axis, bins=500)\n",
        "            if column_key in list(\"xyz\"):\n",
        "                xyz_axes.append(axis)\n",
        "\n",
        "    xyz_axes[0].get_shared_x_axes().join(xyz_axes[0], *xyz_axes)\n",
        "    for xyz_ax in xyz_axes:\n",
        "        xyz_ax.autoscale()"
      ],
      "metadata": {
        "id": "frnrwYhiHp1W",
        "colab": {
          "base_uri": "https://localhost:8080/",
          "height": 744
        },
        "outputId": "68446485-1c6d-4d57-bed3-08659859a688"
      },
      "execution_count": 66,
      "outputs": [
        {
          "output_type": "display_data",
          "data": {
            "text/plain": [
              "<Figure size 720x720 with 13 Axes>"
            ],
            "image/png": "[encoded data removed]"
          },
          "metadata": {
            "needs_background": "light"
          }
        }
      ]
    },
    {
      "cell_type": "markdown",
      "source": [
        "This visualization provides an effective overview of the values each feature takes on. Because this visualization enabled easy identification of binning and resolution limits in the data, it was instrumental in informing and improving the quality of other visualizations. Specifically, it started a line of investigation which allowed manual construction of histogram bins which best fit the resolution of each feature."
      ],
      "metadata": {
        "id": "hPPkwBfbF4Lf"
      }
    },
    {
      "cell_type": "markdown",
      "source": [
        "### What obvious artifacts are there?\n",
        "- Precision\n",
        "    - Table\n",
        "    - Depth\n",
        "- Rounding\n",
        "    - Carat\n",
        "    - X / Y / Z\n",
        "- Other\n",
        "    - Price"
      ],
      "metadata": {
        "id": "-asjThloEEzA"
      }
    },
    {
      "cell_type": "markdown",
      "source": [
        "#### Artifact Investigations\n",
        "One of the application testing phases I completed was comparing the type, resolution, and range of values before and after the data pipeline. These visualizations were created to support that integration testing phase. Specifically, they helped demonstrate that rounding artifacts in the product end of the pipeline were identical to the numerical precision in the CSV datafile."
      ],
      "metadata": {
        "id": "kIJZKY4_OdrB"
      }
    },
    {
      "cell_type": "code",
      "source": [
        "if enable_visualizations:\n",
        "    artifacts_fig, artifacts_ax = plt.subplots(1, 5, squeeze=False, figsize=(20,4), gridspec_kw={\"wspace\":0.4})\n",
        "    artifacts_fig.tight_layout(rect=[0, 0.03, 1, 0.7])\n",
        "    artifacts_fig.suptitle(\"Artifacts in the dataset\")\n",
        "    sns.histplot(data=diamonds_information, x=\"carat\", binrange=[0.1, 2.1], bins=100,   ax=artifacts_ax[0, 0]).set(title=\"'carat' rounds to simple fractions\")\n",
        "    sns.histplot(data=diamonds_information, x=\"depth\", binrange=[60, 61],   bins=100,   ax=artifacts_ax[0, 1]).set(title=\"'depth' rounds to 0.1mm\")\n",
        "    sns.histplot(data=diamonds_information, x=\"table\", binrange=[55, 60],   bins=50,    ax=artifacts_ax[0, 2]).set(title=\"'table' rounds to 1.0mm\")\n",
        "    sns.histplot(data=diamonds_information, x=\"x\",     binrange=[4.4, 4.5], bins=100,   ax=artifacts_ax[0, 3]).set(title=\"'x' rounds to 0.01mm\")\n",
        "    sns.histplot(data=diamonds_information, x=\"price\", binrange=[1000, 2000],           ax=artifacts_ax[0, 4]).set(title=\"Diamonds are never priced at $1,500\")"
      ],
      "metadata": {
        "colab": {
          "base_uri": "https://localhost:8080/",
          "height": 271
        },
        "id": "6Rvc_eJ3vTLj",
        "outputId": "199b2521-4f18-4200-b18f-47ab919bc5cf"
      },
      "execution_count": 61,
      "outputs": [
        {
          "output_type": "display_data",
          "data": {
            "text/plain": [
              "<Figure size 1440x288 with 5 Axes>"
            ],
            "image/png": "[encoded data removed]"
          },
          "metadata": {
            "needs_background": "light"
          }
        }
      ]
    },
    {
      "cell_type": "code",
      "source": [
        "min_resolution = {\"cut_num\": 1, \"color_num\": 1, \"clarity_num\": 1, \"table\": 1, \"depth\": 0.1, \"x\": 0.01, \"y\":0.01, \"z\":0.01}\n",
        "optimal_bins   = {\"cut_num\": 1, \"color_num\": 1, \"clarity_num\": 1, \"table\": 1, \"depth\": 0.1}"
      ],
      "metadata": {
        "id": "xUghf-dqz8h-"
      },
      "execution_count": null,
      "outputs": []
    },
    {
      "cell_type": "markdown",
      "source": [
        "## Application Testing - Data Pipeline\n",
        "This application and report went through two main stages of testing, the first of which related to the data pipeline. The data pipeline's integration testing revolved around the ability to make accuracte graphs of the data, and those graphs were then used to further evaluate the robustness of the data pipeline. The final visual product of this testing stage can be found in [Displaying Bivariate Distributions](#Displaying-Bivariate-Distributions).  \n",
        "  \n",
        "Due to the cleanliness of the data source and the simplicity of the data engineering involved, the integration testing of the data pipeline was straightforward and uncomplicated.  \n",
        "\n",
        "  \n",
        "The second phase of testing is discussed in [Application Testing - Report Communication and Clarity](Application-Testing---Report-Communication-and-Clarity)."
      ],
      "metadata": {
        "id": "khpTNq8Yq7ub"
      }
    },
    {
      "cell_type": "markdown",
      "source": [
        "# Information to Knowledge"
      ],
      "metadata": {
        "id": "6szrxgeXXt1n"
      }
    },
    {
      "cell_type": "code",
      "source": [
        "diamonds_k = diamonds_information.copy() # diamonds_knowledge"
      ],
      "metadata": {
        "id": "exDsWJiafiNM"
      },
      "execution_count": null,
      "outputs": []
    },
    {
      "cell_type": "code",
      "source": [
        "diamonds_k_numeric = diamonds_k.select_dtypes(include='number')"
      ],
      "metadata": {
        "id": "2W62-h4XI_qF"
      },
      "execution_count": null,
      "outputs": []
    },
    {
      "cell_type": "markdown",
      "source": [
        "## Feature Correlations with Price"
      ],
      "metadata": {
        "id": "69FRYpnvUe9E"
      }
    },
    {
      "cell_type": "code",
      "source": [
        "correlation_with_price = np.abs(diamonds_k.corrwith(diamonds_k.price)).sort_values()\n",
        "print(correlation_with_price)"
      ],
      "metadata": {
        "colab": {
          "base_uri": "https://localhost:8080/"
        },
        "id": "_WjWZ7webihI",
        "outputId": "915cf9d0-4782-41de-c9fd-0da26413c723"
      },
      "execution_count": null,
      "outputs": [
        {
          "output_type": "stream",
          "name": "stdout",
          "text": [
            "depth          0.010294\n",
            "cut_num        0.053473\n",
            "clarity_num    0.104827\n",
            "table          0.127028\n",
            "color_num      0.172408\n",
            "z              0.882165\n",
            "x              0.887217\n",
            "y              0.888812\n",
            "carat          0.921595\n",
            "price          1.000000\n",
            "dtype: float64\n"
          ]
        }
      ]
    },
    {
      "cell_type": "markdown",
      "source": [
        "## Visualizing Bivariate Distributions"
      ],
      "metadata": {
        "id": "2PqrzDjxGKcr"
      }
    },
    {
      "cell_type": "markdown",
      "source": [
        "### Constructing Bivariate Visualization Tools"
      ],
      "metadata": {
        "id": "0eY9nQ5jGHKB"
      }
    },
    {
      "cell_type": "code",
      "source": [
        "import matplotlib.patches as patches\n",
        "import matplotlib.collections"
      ],
      "metadata": {
        "id": "Bwr1aCMZZwW9"
      },
      "execution_count": null,
      "outputs": []
    },
    {
      "cell_type": "code",
      "source": [
        "# Configure the shared color for price\n",
        "norm = plt.Normalize(diamonds_k_numeric[\"price\"].min(), diamonds_k_numeric[\"price\"].max())\n",
        "cmap = sns.color_palette(\"flare_r\", as_cmap=True)\n",
        "sm = plt.cm.ScalarMappable(cmap=cmap, norm=norm)\n",
        "sm.set_array([])"
      ],
      "metadata": {
        "id": "FgL3unlOdpsR"
      },
      "execution_count": null,
      "outputs": []
    },
    {
      "cell_type": "code",
      "source": [
        "def get_axis_size_px(ax):\n",
        "    fig = ax.get_figure()\n",
        "    bbox = ax.get_window_extent().transformed(fig.dpi_scale_trans.inverted())\n",
        "    width_inches, height_inches = bbox.width, bbox.height\n",
        "    return width_inches*fig.dpi, height_inches*fig.dpi"
      ],
      "metadata": {
        "id": "B-7JbC1TpYCq"
      },
      "execution_count": null,
      "outputs": []
    },
    {
      "cell_type": "code",
      "source": [
        "def fit_bins(sequence, bins=None, max_bins=None, stagger=True):\n",
        "    name = sequence.name\n",
        "\n",
        "    if name not in optimal_bins:\n",
        "        bin_edges = np.histogram_bin_edges(sequence, bins=\"auto\" if bins is None else bins)\n",
        "        bin_size = bin_edges[1]-bin_edges[0]\n",
        "\n",
        "        if (bins is not None or name not in min_resolution) and max_bins is None:\n",
        "            return bin_size, bin_edges\n",
        "        elif name in min_resolution:\n",
        "            # We can improve the suggested bins by\n",
        "            # moving size to the nearest multiple of resolution,\n",
        "            # then picking new edges.\n",
        "            resolution = min_resolution[name]\n",
        "            bin_size = round(bin_size/resolution)*resolution\n",
        "    else:\n",
        "        bin_size = optimal_bins[name]\n",
        "    \n",
        "    seqmin = sequence.min()\n",
        "    seqmax = sequence.max()\n",
        "\n",
        "    if max_bins is not None:\n",
        "        seqrange = seqmax - seqmin\n",
        "        nbins = (seqrange / bin_size) + (1 if stagger else 0)\n",
        "\n",
        "        if nbins > max_bins:\n",
        "            nbins = max_bins\n",
        "            bin_size = seqrange / max_bins\n",
        "\n",
        "    if stagger:\n",
        "        return bin_size, np.arange(seqmin-bin_size*0.5, seqmax+bin_size*1.5, bin_size)\n",
        "    else:\n",
        "        return bin_size, np.arange(seqmin, seqmax+bin_size, bin_size)"
      ],
      "metadata": {
        "id": "IRCHF7WX6yVm"
      },
      "execution_count": null,
      "outputs": []
    },
    {
      "cell_type": "code",
      "source": [
        "def potentially_categoric_histplot(*args, **kws):\n",
        "    x = kws['x']\n",
        "    y = kws['y']\n",
        "    xname = x.name\n",
        "    yname = y.name\n",
        "    x_is_num = xname[-4:] == \"_num\"\n",
        "    y_is_num = yname[-4:] == \"_num\"\n",
        "    bins = kws.pop(\"bins\", None)\n",
        "\n",
        "    [xbin_size, xb], [ybin_size, yb] = [fit_bins(x, bins=bins), fit_bins(y, bins=bins)]\n",
        "    sns.histplot(*args, bins=[xb, yb], **kws)\n",
        "\n",
        "    # Secondary plot for density of x alone\n",
        "    ax = kws.pop(\"ax\")\n",
        "    ax2 = ax.twinx()\n",
        "    \n",
        "    p2_kws = {k:kws[k] for k in kws if k != \"y\"}\n",
        "    p2_kws[\"ax\"] = ax2\n",
        "    p2_kws[\"alpha\"] = 0.5\n",
        "\n",
        "    if kws['x'].name in optimal_bins:\n",
        "        sns.histplot(*args, **p2_kws, bins=xb, stat=\"density\", element=\"step\", fill=False)\n",
        "    else:\n",
        "        sns.kdeplot(*args, **p2_kws, common_norm=True)\n",
        "    \n",
        "    ax2.yaxis.set_visible(False)\n",
        "\n",
        "potentially_categoric_histplot.__module__ = \"seaborn\""
      ],
      "metadata": {
        "id": "YfyYWglom90a"
      },
      "execution_count": null,
      "outputs": []
    },
    {
      "cell_type": "code",
      "source": [
        "def sized_heatmap(xy_group_ref, ax, bin_size, sm):\n",
        "    blocks = []\n",
        "    xy_group = xy_group_ref.copy()\n",
        "\n",
        "    # # Compute the naive size of the block in data coordinates\n",
        "    block_size_v1 = bin_size[None, :]*xy_group[\"count_normed_sqrt\"].to_numpy()[:, None]\n",
        "    # # Transform the data coordinates into the number of pixels the block would occupy\n",
        "    block_pixels_v1=ax.transData.transform(block_size_v1) - [ax.transData.transform([0, 0])]\n",
        "    # # Get how much less than a pixel each axis is\n",
        "    fractional_pixels_v1 = np.minimum(block_pixels_v1, 1)\n",
        "\n",
        "    # # If a block is <1px in one axis, shrink the other axis and grow that axis by that axis's fraction.\n",
        "    \n",
        "    aspect_transform = fractional_pixels_v1[:, ::-1] / fractional_pixels_v1 # The product of aspect_transform should be 1\n",
        "\n",
        "    block_size_v2 = block_size_v1 * aspect_transform # Scale up the small axis and down the large axis to preserve total size\n",
        "    block_pixels_v2=block_pixels_v1*aspect_transform # Short-compute the new pixels by the same transformation\n",
        "    fractional_pixels_v2 = np.minimum(block_pixels_v2, 1) # New values for how much less than a pixel each axis is\n",
        "\n",
        "    # # If the block is <1px even after shifting the aspect ratio, pull the size up to 1px and we'll give it an alpha\n",
        "    block_size = block_size_v2 / fractional_pixels_v2\n",
        "    alpha=np.prod(fractional_pixels_v2, axis=1)\n",
        "    color = sm.to_rgba(xy_group[\"price\"])\n",
        "\n",
        "    # Build a rectangle for each entry, zipped together\n",
        "    for index, block_size, alpha, color in zip(xy_group.index, block_size, alpha, color):\n",
        "        blocks.append(patches.Rectangle((index - block_size*0.5), *block_size, color=color, alpha=alpha))\n",
        "\n",
        "\n",
        "    pc = matplotlib.collections.PatchCollection(blocks, match_original=True)\n",
        "    ax.add_collection(pc)\n",
        "    return pc"
      ],
      "metadata": {
        "id": "jgy_ZS-e0DbS"
      },
      "execution_count": null,
      "outputs": []
    },
    {
      "cell_type": "code",
      "source": [
        "def pairgrid_heatmap(*args, bins=None, sm=sm, **kws):\n",
        "\n",
        "    kws.pop(\"color\")\n",
        "    x = kws.pop('x')\n",
        "    y = kws.pop('y')\n",
        "    ax = kws.pop(\"ax\")\n",
        "    xname = x.name\n",
        "    yname = y.name\n",
        "\n",
        "    dhm = diamonds_k_numeric[[\"price\", xname, yname]].copy()\n",
        "\n",
        "    max_bins = get_axis_size_px(ax)\n",
        "    [xbin_size, xb], [ybin_size, yb] = [fit_bins(d, bins=bins, stagger=False, max_bins=max_bin) for d, max_bin in zip([x, y], max_bins)]\n",
        "    ax.set_xlim([x.min()-xbin_size/2.0, x.max()+xbin_size/2.0])\n",
        "    ax.set_ylim([y.min()-ybin_size/2.0, y.max()+ybin_size/2.0])\n",
        "    bin_size = np.asarray([xbin_size, ybin_size])\n",
        "\n",
        "    dhm[\"bin_x\"] = xb[np.argmin(np.abs(np.subtract(x.to_numpy()[None, :], xb[:, None])), axis=0)]\n",
        "    dhm[\"bin_y\"] = yb[np.argmin(np.abs(np.subtract(y.to_numpy()[None, :], yb[:, None])), axis=0)]\n",
        "\n",
        "    xy_group = dhm.groupby([\"bin_x\", \"bin_y\"]).agg({\"price\": [\"mean\", \"count\"]})\n",
        "    xy_group.columns = [\"price\", \"count\"]\n",
        "    xy_group.index.set_names([xname, yname], inplace=True)\n",
        "    xy_group[\"count_normed_sqrt\"] = np.sqrt(xy_group[\"count\"] / xy_group[\"count\"].max())\n",
        "    \n",
        "    sized_heatmap(xy_group, ax, bin_size, sm)\n",
        "\n",
        "pairgrid_heatmap.__module__ = \"seaborn\""
      ],
      "metadata": {
        "id": "bO2jCzS6C9sh"
      },
      "execution_count": null,
      "outputs": []
    },
    {
      "cell_type": "markdown",
      "source": [
        "$\\pagebreak$"
      ],
      "metadata": {
        "id": "7YUXUGoMSUwn"
      }
    },
    {
      "cell_type": "markdown",
      "source": [
        "### Displaying Bivariate Distributions"
      ],
      "metadata": {
        "id": "J70yHitvIb8J"
      }
    },
    {
      "cell_type": "code",
      "source": [
        "if enable_visualizations:\n",
        "    n = sns.PairGrid(diamonds_k_numeric, vars=diamonds_k_numeric.drop(\"price\", axis=1).columns)\n",
        "    n.set(title=\"Bivariate Feature Frequency, and Price Trends\")\n",
        "    n.map_diag(potentially_categoric_histplot, y=diamonds_k_numeric[\"price\"], color=\"green\")\n",
        "    n.map_offdiag(pairgrid_heatmap, sm=sm)\n",
        "    plt.colorbar(sm, ax=n.axes, location='left', label=\"Mean Price\")\n",
        "    pairgrid_figure = n"
      ],
      "metadata": {
        "colab": {
          "base_uri": "https://localhost:8080/",
          "height": 235
        },
        "id": "G-tw4GOisIPO",
        "outputId": "f5c4534f-2480-482d-abc1-7aa2ab456e16"
      },
      "execution_count": 68,
      "outputs": [
        {
          "output_type": "error",
          "ename": "NameError",
          "evalue": "ignored",
          "traceback": [
            "\u001b[0;31m---------------------------------------------------------------------------\u001b[0m",
            "\u001b[0;31mNameError\u001b[0m                                 Traceback (most recent call last)",
            "\u001b[0;32m<ipython-input-68-47f764f2833a>\u001b[0m in \u001b[0;36m<module>\u001b[0;34m\u001b[0m\n\u001b[1;32m      1\u001b[0m \u001b[0;32mif\u001b[0m \u001b[0menable_visualizations\u001b[0m\u001b[0;34m:\u001b[0m\u001b[0;34m\u001b[0m\u001b[0;34m\u001b[0m\u001b[0m\n\u001b[0;32m----> 2\u001b[0;31m     \u001b[0mn\u001b[0m \u001b[0;34m=\u001b[0m \u001b[0msns\u001b[0m\u001b[0;34m.\u001b[0m\u001b[0mPairGrid\u001b[0m\u001b[0;34m(\u001b[0m\u001b[0mdiamonds_k_numeric\u001b[0m\u001b[0;34m,\u001b[0m \u001b[0mvars\u001b[0m\u001b[0;34m=\u001b[0m\u001b[0mdiamonds_k_numeric\u001b[0m\u001b[0;34m.\u001b[0m\u001b[0mdrop\u001b[0m\u001b[0;34m(\u001b[0m\u001b[0;34m\"price\"\u001b[0m\u001b[0;34m,\u001b[0m \u001b[0maxis\u001b[0m\u001b[0;34m=\u001b[0m\u001b[0;36m1\u001b[0m\u001b[0;34m)\u001b[0m\u001b[0;34m.\u001b[0m\u001b[0mcolumns\u001b[0m\u001b[0;34m)\u001b[0m\u001b[0;34m\u001b[0m\u001b[0;34m\u001b[0m\u001b[0m\n\u001b[0m\u001b[1;32m      3\u001b[0m     \u001b[0mn\u001b[0m\u001b[0;34m.\u001b[0m\u001b[0mset\u001b[0m\u001b[0;34m(\u001b[0m\u001b[0mtitle\u001b[0m\u001b[0;34m=\u001b[0m\u001b[0;34m\"Bivariate Feature Frequency, and Price Trends\"\u001b[0m\u001b[0;34m)\u001b[0m\u001b[0;34m\u001b[0m\u001b[0;34m\u001b[0m\u001b[0m\n\u001b[1;32m      4\u001b[0m     \u001b[0mn\u001b[0m\u001b[0;34m.\u001b[0m\u001b[0mmap_diag\u001b[0m\u001b[0;34m(\u001b[0m\u001b[0mpotentially_categoric_histplot\u001b[0m\u001b[0;34m,\u001b[0m \u001b[0my\u001b[0m\u001b[0;34m=\u001b[0m\u001b[0mdiamonds_k_numeric\u001b[0m\u001b[0;34m[\u001b[0m\u001b[0;34m\"price\"\u001b[0m\u001b[0;34m]\u001b[0m\u001b[0;34m,\u001b[0m \u001b[0mcolor\u001b[0m\u001b[0;34m=\u001b[0m\u001b[0;34m\"green\"\u001b[0m\u001b[0;34m)\u001b[0m\u001b[0;34m\u001b[0m\u001b[0;34m\u001b[0m\u001b[0m\n\u001b[1;32m      5\u001b[0m     \u001b[0mn\u001b[0m\u001b[0;34m.\u001b[0m\u001b[0mmap_offdiag\u001b[0m\u001b[0;34m(\u001b[0m\u001b[0mpairgrid_heatmap\u001b[0m\u001b[0;34m,\u001b[0m \u001b[0msm\u001b[0m\u001b[0;34m=\u001b[0m\u001b[0msm\u001b[0m\u001b[0;34m)\u001b[0m\u001b[0;34m\u001b[0m\u001b[0;34m\u001b[0m\u001b[0m\n",
            "\u001b[0;31mNameError\u001b[0m: name 'diamonds_k_numeric' is not defined"
          ]
        }
      ]
    },
    {
      "cell_type": "markdown",
      "source": [
        "This visualization was critical in determining if any features needed modification before being presented to the model. Because all the relationships were either weakly correlated or roughly monotonic, this visualization supported the decision not to do any additional feature engineering before fitting the model, as each feature met the criteria for being linearly seperable.\n",
        "  \n",
        "    \n",
        "**About the visualization**  \n",
        "This visualization is a combination of several different plot types, designed to enable rapid investigation of nonlinearities and correlations. The off-diagonal plots are extensions of histograms, where the mark size and opacity together indicate frequency, and the color maps to price. The on-diagonal plots compare their intersecting features with price, taking the form of a bivariate histogram (the spray of green, where darkness indicates frequency) and a univariate histogram (the line plot, where height indicates density across the X axis).\n",
        "  \n",
        "  "
      ],
      "metadata": {
        "id": "4Kfv5eWBUlxy"
      }
    },
    {
      "cell_type": "markdown",
      "source": [
        "## Fitting the Model"
      ],
      "metadata": {
        "id": "HMscaqI71Zqt"
      }
    },
    {
      "cell_type": "code",
      "source": [
        "import sklearn"
      ],
      "metadata": {
        "id": "nQyDJTYo12cN"
      },
      "execution_count": null,
      "outputs": []
    },
    {
      "cell_type": "code",
      "source": [
        "diamonds_k_train = diamonds_k_numeric.sample(frac=0.8)\n",
        "diamonds_k_test = diamonds_k_numeric.drop(diamonds_k_train.index)\n",
        "\n",
        "diamonds_k_train_x = diamonds_k_train.drop(\"price\", axis=1);\n",
        "diamonds_k_train_y = diamonds_k_train[\"price\"];\n",
        "\n",
        "diamonds_k_test_x = diamonds_k_test.drop(\"price\", axis=1);\n",
        "diamonds_k_test_y = diamonds_k_test[\"price\"];"
      ],
      "metadata": {
        "id": "utxKmoFW0zBP"
      },
      "execution_count": null,
      "outputs": []
    },
    {
      "cell_type": "code",
      "source": [
        "selected_model = sklearn.tree.DecisionTreeRegressor # 96% accurate\n",
        "# selected_model = sklearn.linear_model.LinearRegression # 89% accurate\n",
        "# selected_model = sklearn.linear_model.BayesianRidge      # 89% accurate\n",
        "# selected_model = MLPRegressor # 96% accurate"
      ],
      "metadata": {
        "id": "eq599Top7az4"
      },
      "execution_count": null,
      "outputs": []
    },
    {
      "cell_type": "code",
      "source": [
        "price_model = selected_model().fit(diamonds_k_train_x, diamonds_k_train_y)"
      ],
      "metadata": {
        "id": "7of20JSV1rCI"
      },
      "execution_count": null,
      "outputs": []
    },
    {
      "cell_type": "markdown",
      "source": [
        "$\\pagebreak$"
      ],
      "metadata": {
        "id": "yi5MqHqHSXzC"
      }
    },
    {
      "cell_type": "markdown",
      "source": [
        "# Knowledge to Wisdom"
      ],
      "metadata": {
        "id": "5KttB3pR5aN1"
      }
    },
    {
      "cell_type": "markdown",
      "source": [
        "## Model Evaluation"
      ],
      "metadata": {
        "id": "UaVPGCanL8WR"
      }
    },
    {
      "cell_type": "markdown",
      "source": [
        "### Accuracy Analysis"
      ],
      "metadata": {
        "id": "VeCehC8Gvi8b"
      }
    },
    {
      "cell_type": "code",
      "source": [
        "model_validation_accuracy = price_model.score(diamonds_k_test_x, diamonds_k_test_y)\n",
        "print(model_validation_accuracy)"
      ],
      "metadata": {
        "colab": {
          "base_uri": "https://localhost:8080/"
        },
        "id": "7qkPlCIH17nD",
        "outputId": "e2a8bfe9-2958-417b-a91f-3d209666216c"
      },
      "execution_count": null,
      "outputs": [
        {
          "output_type": "stream",
          "name": "stdout",
          "text": [
            "0.9655020469381678\n"
          ]
        }
      ]
    },
    {
      "cell_type": "markdown",
      "source": [
        "The model has a demonstrated accuracy of 96.8% on validation data. This datum is a representative artifact of the model's generality, demonstrating that as new diamonds are put on the market, this model will remain able to generate accurate prices for them."
      ],
      "metadata": {
        "id": "DeZfldFA1Ugs"
      }
    },
    {
      "cell_type": "markdown",
      "source": [
        "### Throughput and Latency Analysis"
      ],
      "metadata": {
        "id": "d-f9wYf_vk8v"
      }
    },
    {
      "cell_type": "markdown",
      "source": [
        "#### Profiling and Constructing Visualizations"
      ],
      "metadata": {
        "id": "lQF9tqCNmdal"
      }
    },
    {
      "cell_type": "markdown",
      "source": [
        "##### Hyperparameters"
      ],
      "metadata": {
        "id": "X1NS0cI9mj8m"
      }
    },
    {
      "cell_type": "code",
      "source": [
        "min_throughput=50000\n",
        "max_latency = 0.05\n",
        "h_confidence=0.999\n",
        "l_confidence = 1.0-h_confidence"
      ],
      "metadata": {
        "id": "HPoU1DNB5aNz"
      },
      "execution_count": null,
      "outputs": []
    },
    {
      "cell_type": "code",
      "source": [
        "max_batch_e10 = 7\n",
        "samples_per_e10= 10\n",
        "num_samples = max_batch_e10*samples_per_e10\n",
        "batch_sizes = np.logspace(1, max_batch_e10, num=num_samples).astype(np.int64)\n",
        "n_runs_per_size = 100"
      ],
      "metadata": {
        "id": "YsITOeb73L_7"
      },
      "execution_count": null,
      "outputs": []
    },
    {
      "cell_type": "markdown",
      "source": [
        "##### Setting up Profiling"
      ],
      "metadata": {
        "id": "QAxki6IomSUr"
      }
    },
    {
      "cell_type": "code",
      "source": [
        "import timeit, os\n",
        "from multiprocessing import Pool\n",
        "from scipy.ndimage.filters import gaussian_filter1d"
      ],
      "metadata": {
        "id": "G4GKCdd32WkJ"
      },
      "execution_count": null,
      "outputs": []
    },
    {
      "cell_type": "code",
      "source": [
        "def _preparePredictionArgs(**kwargs):\n",
        "    prepped_values = pd.DataFrame(columns=diamonds_w_x.drop([\"clarity\", \"color\", \"cut\"], axis=1).columns)\n",
        "    for key, value in kwargs.items():\n",
        "        if key in diamonds_w_x_cat.columns:\n",
        "            categories = diamonds_w_x_cat[key].cat.categories\n",
        "            prepped_values[key + \"_num\"] = [categories.get_loc(value) / (len(categories)-1)]\n",
        "        else:\n",
        "            prepped_values[key] = [value]\n",
        "    return prepped_values\n",
        "\n",
        "def _predictOnPreppedArgs(prepped_values):\n",
        "    return price_model.predict(prepped_values)"
      ],
      "metadata": {
        "id": "p_uEE8CLzYyN"
      },
      "execution_count": null,
      "outputs": []
    },
    {
      "cell_type": "code",
      "source": [
        "def predictPrice(**kwargs):\n",
        "    return _predictOnPreppedArgs(_preparePredictionArgs(**kwargs))"
      ],
      "metadata": {
        "id": "UH46aSKPyv6r"
      },
      "execution_count": null,
      "outputs": []
    },
    {
      "cell_type": "code",
      "source": [
        "randDiamonds = lambda n_diamonds: pd.DataFrame(np.random.rand(n_diamonds, len(diamonds_k_numeric.columns)-1), columns=diamonds_k_numeric.drop(\"price\", axis=1).columns)"
      ],
      "metadata": {
        "id": "h_KJBEH21o2c"
      },
      "execution_count": null,
      "outputs": []
    },
    {
      "cell_type": "code",
      "source": [
        "def time_for_n_diamonds(n_diamonds):\n",
        "    diamonds = randDiamonds(n_diamonds)\n",
        "    start = timeit.default_timer()\n",
        "    price_model.predict(diamonds)\n",
        "    return timeit.default_timer() - start\n",
        "\n",
        "def batch_time_for_n_diamonds(n_diamonds):\n",
        "    return [(n_diamonds, time_for_n_diamonds(n_diamonds)) for _ in range(n_runs_per_size)]"
      ],
      "metadata": {
        "id": "WMEbuXh2z0m5"
      },
      "execution_count": null,
      "outputs": []
    },
    {
      "cell_type": "markdown",
      "source": [
        "##### Executing profiling"
      ],
      "metadata": {
        "id": "ukgfKa75lnwd"
      }
    },
    {
      "cell_type": "code",
      "source": [
        "# Distribute the testing across the CPU\n",
        "with Pool() as p:\n",
        "    p.map(batch_time_for_n_diamonds, [1000]*10) # Warmup to stabilize timing\n",
        "    times = pd.DataFrame.from_records([time_pair for time_pair_list in p.map(batch_time_for_n_diamonds, batch_sizes) for time_pair in time_pair_list], columns=[\"batch_size\", \"s/batch\"])"
      ],
      "metadata": {
        "id": "TX_4nUNu6-zA"
      },
      "execution_count": null,
      "outputs": []
    },
    {
      "cell_type": "markdown",
      "source": [
        "##### Preparing Profiling Data Visualization"
      ],
      "metadata": {
        "id": "f4molaSpmxGc"
      }
    },
    {
      "cell_type": "code",
      "source": [
        "times[\"q/s\"] = times[\"batch_size\"] / times[\"s/batch\"]"
      ],
      "metadata": {
        "id": "HYADsquy8zuv"
      },
      "execution_count": null,
      "outputs": []
    },
    {
      "cell_type": "code",
      "source": [
        "# Compute the confident boundary for the two metrics we care about\n",
        "quantiles = times.groupby(\"batch_size\")\\\n",
        "                .agg({\"q/s\": lambda x: x.quantile(l_confidence), \"s/batch\": lambda x: x.quantile(h_confidence)})\\\n",
        "                .reset_index()\\\n",
        "                .apply(lambda x: gaussian_filter1d(x, sigma=1))\n",
        "\n",
        "# Pre-compute for what batch sizes we are confident we meet KPIs.\n",
        "quantiles[\"q/s_is_valid\"] = quantiles[\"q/s\"] > min_throughput\n",
        "quantiles[\"s/batch_is_valid\"] = quantiles[\"s/batch\"] < max_latency\n",
        "quantiles[\"batch_size_is_valid\"] = np.logical_and(quantiles[\"q/s_is_valid\"], quantiles[\"s/batch_is_valid\"])"
      ],
      "metadata": {
        "id": "GntFJRPgUkeA"
      },
      "execution_count": null,
      "outputs": []
    },
    {
      "cell_type": "code",
      "source": [
        "bounds_hatches = {\n",
        "    \"upper\": \"\\\\\\\\\\\\\",\n",
        "    \"lower\": \"///\"\n",
        "}\n",
        "bounds_percentiles = {\n",
        "    \"upper\": \"99.9\",\n",
        "    \"lower\": \"0.1\"\n",
        "}"
      ],
      "metadata": {
        "id": "7ll2krns99nX"
      },
      "execution_count": null,
      "outputs": []
    },
    {
      "cell_type": "code",
      "source": [
        "def fill_between_valid(ax, key, color, bound_type:str, ymin=None, ymax=None, times=times, quantiles=quantiles, alpha=0.1, **kwargs):\n",
        "    return ax.fill_between(\n",
        "        \"batch_size\", \n",
        "        times[key].min() if ymin is None else ymin,\n",
        "        times[key].max() if ymax is None else ymax,\n",
        "        where=key+\"_is_valid\", \n",
        "        color=color, \n",
        "        alpha=alpha, \n",
        "        hatch=bounds_hatches[bound_type],\n",
        "        data=quantiles,\n",
        "        **kwargs)"
      ],
      "metadata": {
        "id": "YngUs12i7als"
      },
      "execution_count": null,
      "outputs": []
    },
    {
      "cell_type": "code",
      "source": [
        "def plot_acceptable_range(ax, key, title, units, color, boundary, bound_type, quantiles=quantiles, **kwargs):\n",
        "    ax.axhline(y=boundary, color=f\"dark{color}\", linestyle=\"-.\", label=f\"{units} KPI\")\n",
        "    return fill_between_valid(ax, key, color, bound_type, **kwargs)"
      ],
      "metadata": {
        "id": "55_uAcLovACH"
      },
      "execution_count": null,
      "outputs": []
    },
    {
      "cell_type": "code",
      "source": [
        "def style_performance_histogram(ax, color):\n",
        "    ax.tick_params(axis='y', colors=color)\n",
        "    ax.yaxis.label.set_color(color)"
      ],
      "metadata": {
        "id": "x16fOvQ3xnlp"
      },
      "execution_count": null,
      "outputs": []
    },
    {
      "cell_type": "code",
      "source": [
        "def plot_performance_histogram(ax, key, title, units, color, boundary, bound_type, num_samples=num_samples, times=times, quantiles=quantiles, **kwargs):\n",
        "    hist = sns.histplot(times, x=\"batch_size\", y=key, color=color, bins=num_samples, log_scale=True, ax=ax)\n",
        "    quan = ax.plot(\"batch_size\", key, \"--\", color=f\"dark{color}\", label=f\"{units} {bounds_percentiles[bound_type]}%ile\", data=quantiles)\n",
        "    ax.yaxis.label.set_text(f\"{title} ({units})\")\n",
        "    ax.set_ylim([times[key].min(), times[key].max()])\n",
        "    return hist, quan"
      ],
      "metadata": {
        "id": "sgXzSEPKw-NJ"
      },
      "execution_count": null,
      "outputs": []
    },
    {
      "cell_type": "code",
      "source": [
        "def performance_histogram(ax, key, title, units, color, boundary, bound_type, intersection_ax = None, **kwargs):\n",
        "    plot_performance_histogram(ax, key, title, units, color, boundary, bound_type, **kwargs)\n",
        "    plot_acceptable_range(ax, key, title, units, color, boundary, bound_type, **kwargs)\n",
        "    style_performance_histogram(ax, color)\n",
        "\n",
        "    if intersection_ax is not None:\n",
        "        fill_between_valid(intersection_ax, key, color, bound_type, ymin=0, ymax=1)"
      ],
      "metadata": {
        "id": "zSuZRDl-yUAj"
      },
      "execution_count": null,
      "outputs": []
    },
    {
      "cell_type": "code",
      "source": [
        "# Compute the boundaries of our acceptable region\n",
        "batch_size_becomes_valid = (quantiles[\"batch_size_is_valid\"]>quantiles[\"batch_size_is_valid\"].shift(1))\n",
        "batch_size_exits_valid   = (quantiles[\"batch_size_is_valid\"]>quantiles[\"batch_size_is_valid\"].shift(-1))\n",
        "x_ticks = quantiles.loc[batch_size_becomes_valid + batch_size_exits_valid, \"batch_size\"]\n",
        "\n",
        "# Convert those boundaries into scientific notation for labeling purposes\n",
        "x_tick_labels = [np.format_float_scientific(d, precision=0) for d in x_ticks]"
      ],
      "metadata": {
        "id": "78DuYoxqU9kv"
      },
      "execution_count": null,
      "outputs": []
    },
    {
      "cell_type": "code",
      "source": [
        "# Set up the multiple subplots\n",
        "hspace=0\n",
        "fig, axes = plt.subplots(3, gridspec_kw={'height_ratios': [1, 0.2, 1], \"hspace\": hspace})\n",
        "fig.suptitle=(\"Throughput and Latency vs. Batch Size\")\n",
        "plt.xlabel(\"Queries/Batch\")\n",
        "fig.tight_layout()\n",
        "qs_ax, in_ax, sb_ax = axes\n",
        "\n",
        "# Plot the main histograms, along with sending data to the intersection axis\n",
        "performance_histogram(qs_ax, \"q/s\",  \"Throughput\", \"Queries/s\", \"green\", 50000, \"lower\", intersection_ax=in_ax)\n",
        "performance_histogram(sb_ax, \"s/batch\", \"Latency\", \"s/Batch\",   \"blue\",  0.05,  \"upper\", intersection_ax=in_ax)\n",
        "\n",
        "# sharex prevents different ticks for different plots, so we're emulating sharex\n",
        "xlim = [quantiles[\"batch_size\"].min(), quantiles[\"batch_size\"].max()]\n",
        "for ax in axes: \n",
        "    ax.set_xlim(xlim)\n",
        "    ax.set_xscale(\"log\")\n",
        "\n",
        "# Plot custom tick marks on the upper axis, denoting boundaries of reliability\n",
        "qs_ax.xaxis.set_tick_params(labelbottom=True)\n",
        "qs_ax.axes.set_xticks(x_ticks)\n",
        "qs_ax.axes.set_xticklabels(x_tick_labels)\n",
        "\n",
        "# Hide the border and labeling of the intersection axis\n",
        "in_ax.axis(\"off\")\n",
        "\n",
        "fig.legend(loc=[.7, .64])\n",
        "plt.close()\n",
        "performance_graph = fig"
      ],
      "metadata": {
        "id": "9yqQ-L4HQVUZ",
        "colab": {
          "base_uri": "https://localhost:8080/",
          "height": 515
        },
        "outputId": "ae56283d-4cbb-4d68-834e-3b3347deb0b5"
      },
      "execution_count": 67,
      "outputs": [
        {
          "output_type": "error",
          "ename": "NameError",
          "evalue": "ignored",
          "traceback": [
            "\u001b[0;31m---------------------------------------------------------------------------\u001b[0m",
            "\u001b[0;31mNameError\u001b[0m                                 Traceback (most recent call last)",
            "\u001b[0;32m<ipython-input-67-0324cd76ed49>\u001b[0m in \u001b[0;36m<module>\u001b[0;34m\u001b[0m\n\u001b[1;32m      8\u001b[0m \u001b[0;34m\u001b[0m\u001b[0m\n\u001b[1;32m      9\u001b[0m \u001b[0;31m# Plot the main histograms, along with sending data to the intersection axis\u001b[0m\u001b[0;34m\u001b[0m\u001b[0;34m\u001b[0m\u001b[0;34m\u001b[0m\u001b[0m\n\u001b[0;32m---> 10\u001b[0;31m \u001b[0mperformance_histogram\u001b[0m\u001b[0;34m(\u001b[0m\u001b[0mqs_ax\u001b[0m\u001b[0;34m,\u001b[0m \u001b[0;34m\"q/s\"\u001b[0m\u001b[0;34m,\u001b[0m  \u001b[0;34m\"Throughput\"\u001b[0m\u001b[0;34m,\u001b[0m \u001b[0;34m\"Queries/s\"\u001b[0m\u001b[0;34m,\u001b[0m \u001b[0;34m\"green\"\u001b[0m\u001b[0;34m,\u001b[0m \u001b[0;36m50000\u001b[0m\u001b[0;34m,\u001b[0m \u001b[0;34m\"lower\"\u001b[0m\u001b[0;34m,\u001b[0m \u001b[0mintersection_ax\u001b[0m\u001b[0;34m=\u001b[0m\u001b[0min_ax\u001b[0m\u001b[0;34m)\u001b[0m\u001b[0;34m\u001b[0m\u001b[0;34m\u001b[0m\u001b[0m\n\u001b[0m\u001b[1;32m     11\u001b[0m \u001b[0mperformance_histogram\u001b[0m\u001b[0;34m(\u001b[0m\u001b[0msb_ax\u001b[0m\u001b[0;34m,\u001b[0m \u001b[0;34m\"s/batch\"\u001b[0m\u001b[0;34m,\u001b[0m \u001b[0;34m\"Latency\"\u001b[0m\u001b[0;34m,\u001b[0m \u001b[0;34m\"s/Batch\"\u001b[0m\u001b[0;34m,\u001b[0m   \u001b[0;34m\"blue\"\u001b[0m\u001b[0;34m,\u001b[0m  \u001b[0;36m0.05\u001b[0m\u001b[0;34m,\u001b[0m  \u001b[0;34m\"upper\"\u001b[0m\u001b[0;34m,\u001b[0m \u001b[0mintersection_ax\u001b[0m\u001b[0;34m=\u001b[0m\u001b[0min_ax\u001b[0m\u001b[0;34m)\u001b[0m\u001b[0;34m\u001b[0m\u001b[0;34m\u001b[0m\u001b[0m\n\u001b[1;32m     12\u001b[0m \u001b[0;34m\u001b[0m\u001b[0m\n",
            "\u001b[0;31mNameError\u001b[0m: name 'performance_histogram' is not defined"
          ]
        },
        {
          "output_type": "display_data",
          "data": {
            "text/plain": [
              "<Figure size 432x288 with 3 Axes>"
            ],
            "image/png": "[encoded data removed]"
          },
          "metadata": {
            "needs_background": "light"
          }
        }
      ]
    },
    {
      "cell_type": "markdown",
      "source": [
        "#### Profiling Visualization"
      ],
      "metadata": {
        "id": "r4YaK1IInHSl"
      }
    },
    {
      "cell_type": "code",
      "source": [
        "display(performance_graph)"
      ],
      "metadata": {
        "colab": {
          "base_uri": "https://localhost:8080/",
          "height": 303
        },
        "id": "7jTqnncRnWXR",
        "outputId": "ad30f844-2020-4c4c-d53e-6178654cfa3f"
      },
      "execution_count": null,
      "outputs": [
        {
          "output_type": "display_data",
          "data": {
            "text/plain": [
              "<Figure size 432x288 with 3 Axes>"
            ],
            "image/png": "[encoded data removed]"
          },
          "metadata": {}
        }
      ]
    },
    {
      "cell_type": "markdown",
      "source": [
        "This visualization shows that there are a wide range of batch sizes which meet the KPIs: any batch size between 800 and 300,000 give suitable throughput and latency.  \n",
        "\n",
        "This visualization supports the decision to continue to phase 2, since there is considerable performance headroom as demonstrated by the 3 orders of magnitude over which the batch size could vary and remain within the expected range."
      ],
      "metadata": {
        "id": "v4d2cqBqkmj7"
      }
    },
    {
      "cell_type": "markdown",
      "source": [
        "### Hypothesis Verification\n",
        "The model's KPIs were an accuracy of >95%, a throughput of >5000 queries/second, and a latency of &lt;50ms/query. The model met each of these KPIs by a significant margin. That definitively demonstrates that a model was made which met the KPIs given."
      ],
      "metadata": {
        "id": "nEtNxXA0f8hW"
      }
    },
    {
      "cell_type": "markdown",
      "source": [
        "## Interactive Model"
      ],
      "metadata": {
        "id": "6cL4ACfhtkSd"
      }
    },
    {
      "cell_type": "markdown",
      "source": [
        "### Setting up Interactivity"
      ],
      "metadata": {
        "id": "NGDl_oDbIBVE"
      }
    },
    {
      "cell_type": "code",
      "source": [
        "from ipywidgets import FloatSlider, SelectionSlider, interactive_output, VBox\n",
        "from IPython.display import display"
      ],
      "metadata": {
        "id": "39Tx2hTh5cN4"
      },
      "execution_count": null,
      "outputs": []
    },
    {
      "cell_type": "code",
      "source": [
        "maxFloatSlider = lambda max, name: FloatSlider(min=0, max=max, step=0.1, value=0.0, description=name, continuous_update=False)\n",
        "ordCatagSlider = lambda opt, name: SelectionSlider(options=opt, description=name, continuous_update=False)"
      ],
      "metadata": {
        "id": "CMZDUhLo8SJz"
      },
      "execution_count": null,
      "outputs": []
    },
    {
      "cell_type": "code",
      "source": [
        "diamonds_w_x = diamonds_k.drop(\"price\", axis=1)\n",
        "diamonds_w_x_num = diamonds_w_x.select_dtypes(include=\"number\")\n",
        "diamonds_w_x_cat = diamonds_w_x.select_dtypes(include=\"category\")"
      ],
      "metadata": {
        "id": "3TNcVtPm_NK7"
      },
      "execution_count": null,
      "outputs": []
    },
    {
      "cell_type": "code",
      "source": [
        "num_sliders = {key: maxFloatSlider(np.ceil(col.max()/5.0)*5.0, key) for key, col in diamonds_w_x_num.iteritems() if key[-4:] != \"_num\"}\n",
        "cat_sliders = {key: ordCatagSlider(col.cat.categories, key) for key, col in diamonds_w_x_cat.iteritems()}"
      ],
      "metadata": {
        "id": "AghKSyXE6aV8"
      },
      "execution_count": null,
      "outputs": []
    },
    {
      "cell_type": "code",
      "source": [
        "def displayPredictedPrice(**kwargs):\n",
        "    prediction = predictPrice(**kwargs)\n",
        "    print(f\"That should be about ${prediction[0]:0,.2f}\")"
      ],
      "metadata": {
        "id": "4Vq5ibe08Mwb"
      },
      "execution_count": null,
      "outputs": []
    },
    {
      "cell_type": "markdown",
      "source": [
        "### Interactive Price Prediction"
      ],
      "metadata": {
        "id": "7brMnDIXIElZ"
      }
    },
    {
      "cell_type": "code",
      "source": [
        "model_interactive_output = interactive_output(displayPredictedPrice, {**num_sliders, **cat_sliders})\n",
        "model_interactive = VBox([s for c, s in \n",
        "              sorted([\n",
        "                        (correlation_with_price[key], slider) \n",
        "                            if key in correlation_with_price \n",
        "                            else (correlation_with_price[key+\"_num\"], slider) \n",
        "                        for key, slider in \n",
        "                            [*num_sliders.items(), *cat_sliders.items()]\n",
        "                    ], \n",
        "                    reverse=True)\n",
        "              ] + [model_interactive_output]\n",
        "        )\n",
        "display(model_interactive) # NOTE: This will not render correctly to a PDF, but functions in the actual notebook."
      ],
      "metadata": {
        "colab": {
          "base_uri": "https://localhost:8080/",
          "height": 322,
          "referenced_widgets": [
            "aa28cd04682d4de3bcad985a7d3dd584",
            "bb36a8bce4aa4fcd803556701a7d0bb8",
            "93296baa9a8f41df9931b4c695eac1a6",
            "e71e2c83ef64473bb26dfd0d2c61547b",
            "e123a77932084829976f18f721984410",
            "8587d431e68644a9828260b8deca512e",
            "98deb3dd10b24cb5a6d5d58024557ddf",
            "f35cb8aa5ab64abfb2a68ee008f014d8",
            "c660112105a2489c9a6f4b47b2b355c0",
            "7623aa31de2a42eb97615f3d14d17dd2",
            "24f1e39e175446418a75801e7912ab86",
            "9a646b6acdb04b7bb7de2b74b2ed466c",
            "59548ef925f6453fba85d27c19b604c8",
            "36d75c818d5149be99a733fd5d81a2ee",
            "675796d3c61243b89c22f94743f738c1",
            "b803fdd4622946b893a1fab2998141e3",
            "182bc732f25e4e218048d7a371ccdf84",
            "f3b2704056fb4ae78151581536c3a928",
            "804ce6a2204f4bf596247d4763acf434",
            "fd83c08aa66c4b6dbced4e65fbfb7e22",
            "c1f5009eb28f4ad4a50c3357916597b6",
            "529def7d8b6b4c8b9cdaa8619660f1dd",
            "d6186f7dab1a441db773f30f82699ecf",
            "98c37a89bbbe42fbaf48f5cf1862a453",
            "602a5f92ea1d406abfb9d3b772590294",
            "f26f3d2d759b401a88507230e13c6171",
            "4848045364b24a8db4f7a0ccbc00a9d5",
            "b73b0e979c7b43ce902b48bbe7493db4",
            "21d0604ce43d411da72a3d8f4c989307",
            "26a753eda88c496fa056fddb4e5c9e67",
            "26c12434e2154a35b2880ba763c97712"
          ]
        },
        "id": "xAqeyb4W9g0O",
        "outputId": "3f0fb273-4b1b-4bdc-806a-3a1eaa94c55d"
      },
      "execution_count": null,
      "outputs": [
        {
          "output_type": "display_data",
          "data": {
            "text/plain": [
              "VBox(children=(FloatSlider(value=0.0, continuous_update=False, description='carat', max=10.0), FloatSlider(val…"
            ],
            "application/vnd.jupyter.widget-view+json": {
              "version_major": 2,
              "version_minor": 0,
              "model_id": "aa28cd04682d4de3bcad985a7d3dd584"
            }
          },
          "metadata": {}
        }
      ]
    },
    {
      "cell_type": "markdown",
      "source": [
        "## Conclusions and Recommendations"
      ],
      "metadata": {
        "id": "G8nllVcatuQz"
      }
    },
    {
      "cell_type": "markdown",
      "source": [
        "A model has been demonstrated with high accuracy and high efficiency. The model meets established KPIs. Based on this, the model should be utilized in Phase 2 of the 'In The Loupe' project."
      ],
      "metadata": {
        "id": "Pfaj6clu0U0-"
      }
    },
    {
      "cell_type": "markdown",
      "source": [
        "# Appendix"
      ],
      "metadata": {
        "id": "9EikG6Dxt6bB"
      }
    },
    {
      "cell_type": "markdown",
      "source": [
        "## User's Guide"
      ],
      "metadata": {
        "id": "yAJfwZ_Q3r50"
      }
    },
    {
      "cell_type": "markdown",
      "source": [
        "## Application Testing - Report Communication and Clarity\n",
        "The direct customer for this phase of 'In The Loupe' are FBay's stakeholders, deciding whether to continue to Phase 2 or not. That means the key performance indicator of Phase 1 is the ease with which its products (this report) can be understood. I applied software testing strategies to ensure this document communicates clearly.\n",
        "\n",
        "### Unit Testing\n",
        "- [x] Are variable names and section headings in their final form?\n",
        "- [x] Are all debugging commands removed?\n",
        "- [x] Does every figure have a Title, Axis, Intervals, Labels, and Scale?\n",
        "- [ ] Are there versioning disputes, old measurements, or other out-of-date aspects?\n",
        "    - [ ] Final Performance Evaluation\n",
        "- [ ] Is the datafile path up-to-date?\n",
        "    - [ ] Even after transitioning to evaluation hosting?\n",
        "- [x] Are there cells which should be joined?\n",
        "\n",
        "### Integration Testing\n",
        "- [ ] Do all links function correctly?\n",
        "    - [ ] In the Jupyter Notebook?\n",
        "    - [ ] In the exported PDF?\n",
        "- [x] Is terminology consistent?\n",
        "    - [x] Project KPIs vs requirements vs goals\n",
        "    - [x] variable vs feature vs characteristic\n",
        "\n",
        "### System Testing\n",
        "- [ ] Can the notebook be executed interactively for evaluation?\n",
        "    - [ ] Are there clear instructions for starting that hosting?"
      ],
      "metadata": {
        "id": "RZ4h2Z262Qgg"
      }
    },
    {
      "cell_type": "markdown",
      "source": [
        "## Figures"
      ],
      "metadata": {
        "id": "zvXyZo59uCq4"
      }
    },
    {
      "cell_type": "code",
      "source": [
        "display(univariate_analysis_figure)\n",
        "display(artifacts_fig)\n",
        "display(pairgrid_figure)\n",
        "display(performance_graph)"
      ],
      "metadata": {
        "colab": {
          "base_uri": "https://localhost:8080/",
          "height": 831
        },
        "id": "1ei8RI_quFaL",
        "outputId": "256f192d-dba2-4a3c-b92c-6ba4ead3b29f"
      },
      "execution_count": null,
      "outputs": [
        {
          "output_type": "display_data",
          "data": {
            "text/plain": [
              "<Figure size 1152x648 with 13 Axes>"
            ],
            "image/png": "[encoded data removed]"
          },
          "metadata": {}
        },
        {
          "output_type": "display_data",
          "data": {
            "text/plain": [
              "<Figure size 1728x288 with 5 Axes>"
            ],
            "image/png": "[encoded data removed]"
          },
          "metadata": {}
        }
      ]
    },
    {
      "cell_type": "markdown",
      "source": [
        "## Summation of Learning Experience\n",
        "I have several years of industry experience in designing large-scale data pipelines and machine learning tools. However, because most of that experience was on a jobsite, I've felt a small but growing desire to stretch my legs and try some new tools, to practice being a life-long learner. As a result, my approach to this project was much more exploring new skills than exploiting existing knowledge.  \n",
        "\n",
        "Specifically, this capstone project gave me a wonderful opportunity to familiarize myself with the `pandas` and `seaborn` python packages, which are designed to provide more user-friendly features and metadata management than `numpy` and `matplotlib`. Luckily, `pandas`, `seaborn`, and most other software tools are well documented on the web, so I didn't need to reach out to any other people for learning help or any other assistance.\n",
        "\n",
        "This experience has reminded me that new tools are not always better, but they're usually different. For example, `seaborn` is better than `matplotlib` at assuming what you want, but worse at helping you fix its mistakes."
      ],
      "metadata": {
        "id": "R0xMFr_nLkVs"
      }
    },
    {
      "cell_type": "markdown",
      "source": [
        "## WGU Evaluator's Guide\n",
        "The structure of this document emerged from the actual process of developing the software, and has been merged with the requirements placed by WGU evaluation. To best support WGU Evaluators, I've mapped C964 requirements to document sections.\n",
        "\n",
        "- Summary: [Summary](#Summary)\n",
        "\n",
        "### C964.C - Data Product\n",
        "- [x] Data Methods\n",
        "\t- [x] Descriptive\n",
        "\t\t- Univariate Analysis: [Univariate Analysis](#Univariate-Analysis) \n",
        "\t\t- Artifact Investigations: [Artifact Investigations](#Artifact-Investigations)\n",
        "\t\t- Feature Correlations with Price: [Feature Correlations with Price](#Feature-Correlations-with-Price)\n",
        "\t\t- Bivariate Distributions: [Displaying Bivariate Distributions](#Displaying-Bivariate-Distributions)\n",
        "\t\t- Figures: [Figures](#Figures)\n",
        "\t- [x] Predictive\n",
        "\t\t- Fitting the Model: [Fitting the Model](#Fitting-the-Model)\n",
        "- [x] Datasets\n",
        "\t- Dataset Selection: [Dataset Selection](#Dataset-Selection)\n",
        "- [x] Data Cleaning\n",
        "\t- Data Pipeline: [Data Pipeline](#Data Pipeline)\n",
        "- [x] Data Visualization\n",
        "    - Univariate Analysis: [Univariate Analysis](#Univariate-Analysis) \n",
        "    - Artifact Investigations: [Artifact Investigations](#Artifact-Investigations)\n",
        "    - Bivariate Distributions: [Displaying Bivariate Distributions](#Displaying-Bivariate-Distributions)\n",
        "    - Profiling Visualization: [Profiling Visualization](#Profiling-Visualization)\n",
        "    - Figures: [Figures](#Figures)\n",
        "- [x] Real-Time Queries\n",
        "\t- Interactive Price Prediction: [Interactive Price Prediction](#Interactive-Price-Prediction)\n",
        "- [x] Outcome Accuracy\n",
        "\t- Accuracy Analysis: [Accuracy Analysis](#Accuracy-Analysis) \n",
        "- [x] Product Health Monitoring\n",
        "\t- Log errors to a file: [Log errors to a file](#Configuring-logging)\n",
        "- [x] Dashboard\n",
        "\t- Interactive Price Prediction: [Interactive Price Prediction](#Interactive-Price-Prediction)\n",
        "\t- Univariate Analysis: [Univariate Analysis](#Univariate-Analysis) \n",
        "\t- Artifact Investigations: [Artifact Investigations](#Artifact-Investigations)\n",
        "\t- Bivariate Distributions: [Displaying Bivariate Distributions](#Displaying-Bivariate-Distributions)\n",
        "\t- Profiling Visualization: [Profiling Visualization](#Profiling-Visualization)\n",
        "\n",
        "### C964.D - Product Documentation\n",
        "- [x] Project Purpose\n",
        "\t- Project Purpose: [Project Purpose](#Project-Purpose)\n",
        "- [x] Datasets\n",
        "\t- Dataset Selection: [Dataset Selection](#Dataset-Selection)\n",
        "- [ ] Data Product Code\n",
        "- [x] Hypothesis Verification\n",
        "\t- Hypothesis Verification: [Hypothesis Verification](#Hypothesis-Verification)\n",
        "\t- Conclusions and Recommendations: [Conclusions and Recommendations](#Conclusions-and-Recommendations)\n",
        "- [x] Effective Visualizations and Reporting\n",
        "\t- Univariate Analysis: [Univariate Analysis](#Univariate-Analysis)\n",
        "\t- Artifact Investigations: [Artifact Investigations](#Artifact-Investigations)\n",
        "\t- Bivariate Distributions: [Displaying Bivariate Distributions](#Displaying-Bivariate-Distributions)\n",
        "\t- Profiling Visualization: [Profiling Visualization](#Profiling-Visualization)\n",
        "\t- Figures: [Figures](#Figures)\n",
        "- [x] Accuracy Analysis\n",
        "\t- Accuracy Analysis: [Accuracy Analysis](#Accuracy-Analysis) \n",
        "\t- Conclusions and Recommendations: [Conclusions and Recommendations](#Conclusions-and-Recommendations)\n",
        "- [x] Application Testing\n",
        "\t- Application Testing - Data Pipeline: [Application Testing - Data Pipeline](#Application-Testing---Data-Pipeline)\n",
        "\t- Application Testing - Report Communication and Clarity: [Application Testing - Report Communication and Clarity](Application-Testing---Report-Communication-and-Clarity)\n",
        "    - Artifact Investigations: [Artifact Investigations](#Artifact-Investigations)\n",
        "- [ ] Application Files\n",
        "- [x] User's Guide\n",
        "\t- User's Guide: [User's Guide](#Users-Guide)\n",
        "- [x] Summation of Learning Experience\n",
        "\t- Summation of Learning Experience: [Summation of Learning Experience](#Summation-of-Learning-Experience)\n",
        "\n",
        "### C964.E - Academic Integrity\n",
        "This report does not draw on any sources in any manner which require citation. Some sources are linked, but their content is not presented, summarized, or evaluated in this document."
      ],
      "metadata": {
        "id": "-zVKruukC31w"
      }
    },
    {
      "cell_type": "markdown",
      "source": [
        "## Document Export"
      ],
      "metadata": {
        "id": "VKXxXrYh3ojx"
      }
    },
    {
      "cell_type": "code",
      "source": [
        "# %%capture\n",
        "!jupyter nbconvert --template \"/nbconvert_template.tplx\" --to PDF \"/content/drive/MyDrive/Classes/Early 2022/Capstone/colab/DiamondPrices/DiamondPricingEDA.ipynb\"\n",
        "from google.colab import files\n",
        "files.download(\"/content/drive/MyDrive/Classes/Early 2022/Capstone/colab/DiamondPrices/DiamondPricingEDA.pdf\")"
      ],
      "metadata": {
        "id": "0sxDPHsjPPe5",
        "colab": {
          "base_uri": "https://localhost:8080/",
          "height": 329
        },
        "outputId": "86e0b419-0cc7-4c12-c154-66f86de307ee"
      },
      "execution_count": null,
      "outputs": [
        {
          "output_type": "stream",
          "name": "stdout",
          "text": [
            "[NbConvertApp] Converting notebook /content/drive/MyDrive/Classes/Early 2022/Capstone/colab/DiamondPrices/DiamondPricingEDA.ipynb to PDF\n",
            "[NbConvertApp] Support files will be in DiamondPricingEDA_files/\n",
            "[NbConvertApp] Making directory ./DiamondPricingEDA_files\n",
            "[NbConvertApp] Making directory ./DiamondPricingEDA_files\n",
            "[NbConvertApp] Making directory ./DiamondPricingEDA_files\n",
            "[NbConvertApp] Making directory ./DiamondPricingEDA_files\n",
            "[NbConvertApp] Making directory ./DiamondPricingEDA_files\n",
            "[NbConvertApp] Making directory ./DiamondPricingEDA_files\n",
            "[NbConvertApp] Making directory ./DiamondPricingEDA_files\n",
            "[NbConvertApp] Making directory ./DiamondPricingEDA_files\n",
            "[NbConvertApp] Making directory ./DiamondPricingEDA_files\n",
            "[NbConvertApp] Writing 111359 bytes to ./notebook.tex\n",
            "[NbConvertApp] Building PDF\n",
            "[NbConvertApp] Running xelatex 3 times: ['xelatex', './notebook.tex', '-quiet']\n",
            "[NbConvertApp] Running bibtex 1 time: ['bibtex', './notebook']\n",
            "[NbConvertApp] WARNING | bibtex had problems, most likely because there were no citations\n",
            "[NbConvertApp] PDF successfully created\n",
            "[NbConvertApp] Writing 478972 bytes to /content/drive/MyDrive/Classes/Early 2022/Capstone/colab/DiamondPrices/DiamondPricingEDA.pdf\n"
          ]
        },
        {
          "output_type": "display_data",
          "data": {
            "text/plain": [
              "<IPython.core.display.Javascript object>"
            ],
            "application/javascript": [
              "\n",
              "    async function download(id, filename, size) {\n",
              "      if (!google.colab.kernel.accessAllowed) {\n",
              "        return;\n",
              "      }\n",
              "      const div = document.createElement('div');\n",
              "      const label = document.createElement('label');\n",
              "      label.textContent = `Downloading \"${filename}\": `;\n",
              "      div.appendChild(label);\n",
              "      const progress = document.createElement('progress');\n",
              "      progress.max = size;\n",
              "      div.appendChild(progress);\n",
              "      document.body.appendChild(div);\n",
              "\n",
              "      const buffers = [];\n",
              "      let downloaded = 0;\n",
              "\n",
              "      const channel = await google.colab.kernel.comms.open(id);\n",
              "      // Send a message to notify the kernel that we're ready.\n",
              "      channel.send({})\n",
              "\n",
              "      for await (const message of channel.messages) {\n",
              "        // Send a message to notify the kernel that we're ready.\n",
              "        channel.send({})\n",
              "        if (message.buffers) {\n",
              "          for (const buffer of message.buffers) {\n",
              "            buffers.push(buffer);\n",
              "            downloaded += buffer.byteLength;\n",
              "            progress.value = downloaded;\n",
              "          }\n",
              "        }\n",
              "      }\n",
              "      const blob = new Blob(buffers, {type: 'application/binary'});\n",
              "      const a = document.createElement('a');\n",
              "      a.href = window.URL.createObjectURL(blob);\n",
              "      a.download = filename;\n",
              "      div.appendChild(a);\n",
              "      a.click();\n",
              "      div.remove();\n",
              "    }\n",
              "  "
            ]
          },
          "metadata": {}
        },
        {
          "output_type": "display_data",
          "data": {
            "text/plain": [
              "<IPython.core.display.Javascript object>"
            ],
            "application/javascript": [
              "download(\"download_e7137870-f411-4e19-ab83-d0324fa64d39\", \"DiamondPricingEDA.pdf\", 478972)"
            ]
          },
          "metadata": {}
        }
      ]
    }
  ]
}
